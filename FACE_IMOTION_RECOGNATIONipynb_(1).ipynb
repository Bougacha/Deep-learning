{
  "cells": [
    {
      "cell_type": "code",
      "execution_count": null,
      "metadata": {
        "colab": {
          "base_uri": "https://localhost:8080/"
        },
        "id": "n31NLkg1O32c",
        "outputId": "811e768e-c76a-4123-f6b5-843b1e0645cd"
      },
      "outputs": [
        {
          "output_type": "stream",
          "name": "stdout",
          "text": [
            "Collecting opendatasets\n",
            "  Downloading opendatasets-0.1.22-py3-none-any.whl (15 kB)\n",
            "Requirement already satisfied: tqdm in /usr/local/lib/python3.10/dist-packages (from opendatasets) (4.66.1)\n",
            "Requirement already satisfied: kaggle in /usr/local/lib/python3.10/dist-packages (from opendatasets) (1.5.16)\n",
            "Requirement already satisfied: click in /usr/local/lib/python3.10/dist-packages (from opendatasets) (8.1.7)\n",
            "Requirement already satisfied: six>=1.10 in /usr/local/lib/python3.10/dist-packages (from kaggle->opendatasets) (1.16.0)\n",
            "Requirement already satisfied: certifi in /usr/local/lib/python3.10/dist-packages (from kaggle->opendatasets) (2023.7.22)\n",
            "Requirement already satisfied: python-dateutil in /usr/local/lib/python3.10/dist-packages (from kaggle->opendatasets) (2.8.2)\n",
            "Requirement already satisfied: requests in /usr/local/lib/python3.10/dist-packages (from kaggle->opendatasets) (2.31.0)\n",
            "Requirement already satisfied: python-slugify in /usr/local/lib/python3.10/dist-packages (from kaggle->opendatasets) (8.0.1)\n",
            "Requirement already satisfied: urllib3 in /usr/local/lib/python3.10/dist-packages (from kaggle->opendatasets) (2.0.7)\n",
            "Requirement already satisfied: bleach in /usr/local/lib/python3.10/dist-packages (from kaggle->opendatasets) (6.1.0)\n",
            "Requirement already satisfied: webencodings in /usr/local/lib/python3.10/dist-packages (from bleach->kaggle->opendatasets) (0.5.1)\n",
            "Requirement already satisfied: text-unidecode>=1.3 in /usr/local/lib/python3.10/dist-packages (from python-slugify->kaggle->opendatasets) (1.3)\n",
            "Requirement already satisfied: charset-normalizer<4,>=2 in /usr/local/lib/python3.10/dist-packages (from requests->kaggle->opendatasets) (3.3.0)\n",
            "Requirement already satisfied: idna<4,>=2.5 in /usr/local/lib/python3.10/dist-packages (from requests->kaggle->opendatasets) (3.4)\n",
            "Installing collected packages: opendatasets\n",
            "Successfully installed opendatasets-0.1.22\n"
          ]
        }
      ],
      "source": [
        "!pip install opendatasets"
      ]
    },
    {
      "cell_type": "code",
      "source": [
        "import opendatasets as od\n",
        "import pandas as pd\n",
        "{\"username\":\"idoumouahmed\",\"key\":\"46c0a1a1b18efcb8f45b6ebbb0d97710\"}\n",
        "od.download(\"https://www.kaggle.com/datasets/sudarshanvaidya/random-images-for-face-emotion-recognition/data\")"
      ],
      "metadata": {
        "colab": {
          "base_uri": "https://localhost:8080/"
        },
        "id": "2yY8VWLgNfMM",
        "outputId": "75143c90-9898-4905-f65b-786c65b36854"
      },
      "execution_count": null,
      "outputs": [
        {
          "output_type": "stream",
          "name": "stdout",
          "text": [
            "Please provide your Kaggle credentials to download this dataset. Learn more: http://bit.ly/kaggle-creds\n",
            "Your Kaggle username: idoumouahmed\n",
            "Your Kaggle Key: ··········\n",
            "Downloading random-images-for-face-emotion-recognition.zip to ./random-images-for-face-emotion-recognition\n"
          ]
        },
        {
          "output_type": "stream",
          "name": "stderr",
          "text": [
            "100%|██████████| 45.6M/45.6M [00:00<00:00, 64.5MB/s]\n"
          ]
        },
        {
          "output_type": "stream",
          "name": "stdout",
          "text": [
            "\n"
          ]
        }
      ]
    },
    {
      "cell_type": "code",
      "execution_count": null,
      "metadata": {
        "colab": {
          "base_uri": "https://localhost:8080/"
        },
        "id": "9St4ovteO348",
        "outputId": "55a19549-2703-4c92-a8b5-3ca8fdeae6ab"
      },
      "outputs": [
        {
          "output_type": "stream",
          "name": "stdout",
          "text": [
            "Please provide your Kaggle credentials to download this dataset. Learn more: http://bit.ly/kaggle-creds\n",
            "Your Kaggle username: idoumouahmed\n",
            "Your Kaggle Key: ··········\n",
            "Downloading facial-expression-dataset.zip to ./facial-expression-dataset\n"
          ]
        },
        {
          "output_type": "stream",
          "name": "stderr",
          "text": [
            "100%|██████████| 60.7M/60.7M [00:00<00:00, 109MB/s]\n"
          ]
        },
        {
          "output_type": "stream",
          "name": "stdout",
          "text": [
            "\n"
          ]
        }
      ],
      "source": [
        "import opendatasets as od\n",
        "import pandas as pd\n",
        "{\"username\":\"idoumouahmed\",\"key\":\"46c0a1a1b18efcb8f45b6ebbb0d97710\"}\n",
        "od.download(\"https://www.kaggle.com/datasets/aadityasinghal/facial-expression-dataset\")"
      ]
    },
    {
      "cell_type": "code",
      "execution_count": null,
      "metadata": {
        "id": "2A9S31gBO37U"
      },
      "outputs": [],
      "source": [
        "import pandas as pd\n",
        "import numpy as np\n",
        "import os\n",
        "from torch import nn\n",
        "import matplotlib.pyplot as plt\n",
        "import seaborn as sns\n",
        "import warnings\n",
        "warnings.filterwarnings('ignore')"
      ]
    },
    {
      "cell_type": "code",
      "execution_count": null,
      "metadata": {
        "id": "EafoO4UciHwO"
      },
      "outputs": [],
      "source": [
        "import torch\n",
        "import torchvision.transforms as transforms\n",
        "from torchvision.datasets import ImageFolder\n",
        "from torch.utils.data import DataLoader\n",
        "import matplotlib.pyplot as plt"
      ]
    },
    {
      "cell_type": "markdown",
      "metadata": {
        "id": "gv99v4YOSF-H"
      },
      "source": [
        "# **Load the Data**"
      ]
    },
    {
      "cell_type": "code",
      "execution_count": null,
      "metadata": {
        "id": "iPfohXcCO392"
      },
      "outputs": [],
      "source": [
        "TRAIN_DIR = '/content/facial-expression-dataset/train/train'\n",
        "TEST_DIR = '/content/facial-expression-dataset/test/test'\n",
        "shuffled_d = '/content/random-images-for-face-emotion-recognition'"
      ]
    },
    {
      "cell_type": "code",
      "execution_count": null,
      "metadata": {
        "colab": {
          "base_uri": "https://localhost:8080/"
        },
        "id": "cSRYjrmmO4E9",
        "outputId": "33dca620-c29a-47fb-f92a-e0a619322992"
      },
      "outputs": [
        {
          "output_type": "stream",
          "name": "stdout",
          "text": [
            "surprise  Completed\n",
            "disgust  Completed\n",
            "fear  Completed\n",
            "neutral  Completed\n",
            "angry  Completed\n",
            "sad  Completed\n",
            "happy  Completed\n",
            "surprise  Completed\n",
            "disgust  Completed\n",
            "fear  Completed\n",
            "neutral  Completed\n",
            "angry  Completed\n",
            "sad  Completed\n",
            "happy  Completed\n",
            "surprise  Completed\n",
            "disgust  Completed\n",
            "anger  Completed\n",
            "sadness  Completed\n",
            "fear  Completed\n",
            "happiness  Completed\n",
            "neutrality  Completed\n"
          ]
        }
      ],
      "source": [
        "def load_images(dir_path):\n",
        "    labels = []\n",
        "    img_paths = []\n",
        "\n",
        "    for folder in os.listdir(dir_path):\n",
        "        folder_path = os.path.join(dir_path, folder)\n",
        "\n",
        "        # Check if it's a directory\n",
        "        if os.path.isdir(folder_path):\n",
        "            for filename in os.listdir(folder_path):\n",
        "                img_path = os.path.join(folder_path, filename)\n",
        "                img_paths.append(img_path)\n",
        "                labels.append(folder)\n",
        "            print(folder, ' Completed')\n",
        "\n",
        "    return img_paths, labels\n",
        "\n",
        "train = pd.DataFrame()\n",
        "shuffled_data = pd.DataFrame()\n",
        "# Chemin du dossier que vous souhaitez supprimer\n",
        "chemin_dossier = '/content/random-images-for-face-emotion-recognition/contempt'\n",
        "\n",
        "# Utilisez la commande !rm -r pour supprimer le dossier et tous ses contenus\n",
        "!rm -r {chemin_dossier}\n",
        "train['images'], train['labels'] = load_images(TRAIN_DIR)\n",
        "test = pd.DataFrame()\n",
        "test['images'], test['labels'] = load_images(TEST_DIR)\n",
        "shuffled_data['images'],shuffled_data['labels'] = load_images(shuffled_d)"
      ]
    },
    {
      "cell_type": "code",
      "source": [
        "correspondance_labels = {\n",
        "    \"anger\": \"angry\",\n",
        "    \"disgust\": \"disgust\",\n",
        "    \"fear\": \"fear\",\n",
        "    \"happiness\": \"happy\",\n",
        "    \"neutrality\": \"neutral\",\n",
        "    \"sadness\": \"sad\",\n",
        "    \"surprise\": \"surprise\",\n",
        "\n",
        "}"
      ],
      "metadata": {
        "id": "UOdLGfR1RbYN"
      },
      "execution_count": null,
      "outputs": []
    },
    {
      "cell_type": "code",
      "source": [
        "shuffled_data['labels'][10]"
      ],
      "metadata": {
        "colab": {
          "base_uri": "https://localhost:8080/",
          "height": 35
        },
        "id": "R9tqcZAfUWXZ",
        "outputId": "d668b9aa-e47c-46af-a06f-8f0e1f01383e"
      },
      "execution_count": null,
      "outputs": [
        {
          "output_type": "execute_result",
          "data": {
            "text/plain": [
              "'surprise'"
            ],
            "application/vnd.google.colaboratory.intrinsic+json": {
              "type": "string"
            }
          },
          "metadata": {},
          "execution_count": 9
        }
      ]
    },
    {
      "cell_type": "code",
      "source": [
        "for i in range(len(shuffled_data)):\n",
        "  shuffled_data['labels'][i] = correspondance_labels[shuffled_data['labels'][i]]\n"
      ],
      "metadata": {
        "id": "bOP6TipBQCB2"
      },
      "execution_count": null,
      "outputs": []
    },
    {
      "cell_type": "code",
      "source": [
        "import pandas as pd\n",
        "\n",
        "# Concaténation horizontale\n",
        "DATA = pd.concat([train, test, shuffled_data], axis=0)\n",
        "# shuffle the dataset\n",
        "DATA = DATA.sample(frac = 1).reset_index(drop=True)\n",
        "DATA.head()\n"
      ],
      "metadata": {
        "colab": {
          "base_uri": "https://localhost:8080/",
          "height": 206
        },
        "id": "NIWLTc-dYJw1",
        "outputId": "1e8d4fbb-9b4d-43ab-f18c-60b25f1c0116"
      },
      "execution_count": null,
      "outputs": [
        {
          "output_type": "execute_result",
          "data": {
            "text/plain": [
              "                                              images   labels\n",
              "0  /content/random-images-for-face-emotion-recogn...     fear\n",
              "1  /content/random-images-for-face-emotion-recogn...    happy\n",
              "2  /content/facial-expression-dataset/train/train...      sad\n",
              "3  /content/random-images-for-face-emotion-recogn...  disgust\n",
              "4  /content/facial-expression-dataset/test/test/n...  neutral"
            ],
            "text/html": [
              "\n",
              "  <div id=\"df-b07cc9b8-656f-48a5-a6af-1362622389eb\" class=\"colab-df-container\">\n",
              "    <div>\n",
              "<style scoped>\n",
              "    .dataframe tbody tr th:only-of-type {\n",
              "        vertical-align: middle;\n",
              "    }\n",
              "\n",
              "    .dataframe tbody tr th {\n",
              "        vertical-align: top;\n",
              "    }\n",
              "\n",
              "    .dataframe thead th {\n",
              "        text-align: right;\n",
              "    }\n",
              "</style>\n",
              "<table border=\"1\" class=\"dataframe\">\n",
              "  <thead>\n",
              "    <tr style=\"text-align: right;\">\n",
              "      <th></th>\n",
              "      <th>images</th>\n",
              "      <th>labels</th>\n",
              "    </tr>\n",
              "  </thead>\n",
              "  <tbody>\n",
              "    <tr>\n",
              "      <th>0</th>\n",
              "      <td>/content/random-images-for-face-emotion-recogn...</td>\n",
              "      <td>fear</td>\n",
              "    </tr>\n",
              "    <tr>\n",
              "      <th>1</th>\n",
              "      <td>/content/random-images-for-face-emotion-recogn...</td>\n",
              "      <td>happy</td>\n",
              "    </tr>\n",
              "    <tr>\n",
              "      <th>2</th>\n",
              "      <td>/content/facial-expression-dataset/train/train...</td>\n",
              "      <td>sad</td>\n",
              "    </tr>\n",
              "    <tr>\n",
              "      <th>3</th>\n",
              "      <td>/content/random-images-for-face-emotion-recogn...</td>\n",
              "      <td>disgust</td>\n",
              "    </tr>\n",
              "    <tr>\n",
              "      <th>4</th>\n",
              "      <td>/content/facial-expression-dataset/test/test/n...</td>\n",
              "      <td>neutral</td>\n",
              "    </tr>\n",
              "  </tbody>\n",
              "</table>\n",
              "</div>\n",
              "    <div class=\"colab-df-buttons\">\n",
              "\n",
              "  <div class=\"colab-df-container\">\n",
              "    <button class=\"colab-df-convert\" onclick=\"convertToInteractive('df-b07cc9b8-656f-48a5-a6af-1362622389eb')\"\n",
              "            title=\"Convert this dataframe to an interactive table.\"\n",
              "            style=\"display:none;\">\n",
              "\n",
              "  <svg xmlns=\"http://www.w3.org/2000/svg\" height=\"24px\" viewBox=\"0 -960 960 960\">\n",
              "    <path d=\"M120-120v-720h720v720H120Zm60-500h600v-160H180v160Zm220 220h160v-160H400v160Zm0 220h160v-160H400v160ZM180-400h160v-160H180v160Zm440 0h160v-160H620v160ZM180-180h160v-160H180v160Zm440 0h160v-160H620v160Z\"/>\n",
              "  </svg>\n",
              "    </button>\n",
              "\n",
              "  <style>\n",
              "    .colab-df-container {\n",
              "      display:flex;\n",
              "      gap: 12px;\n",
              "    }\n",
              "\n",
              "    .colab-df-convert {\n",
              "      background-color: #E8F0FE;\n",
              "      border: none;\n",
              "      border-radius: 50%;\n",
              "      cursor: pointer;\n",
              "      display: none;\n",
              "      fill: #1967D2;\n",
              "      height: 32px;\n",
              "      padding: 0 0 0 0;\n",
              "      width: 32px;\n",
              "    }\n",
              "\n",
              "    .colab-df-convert:hover {\n",
              "      background-color: #E2EBFA;\n",
              "      box-shadow: 0px 1px 2px rgba(60, 64, 67, 0.3), 0px 1px 3px 1px rgba(60, 64, 67, 0.15);\n",
              "      fill: #174EA6;\n",
              "    }\n",
              "\n",
              "    .colab-df-buttons div {\n",
              "      margin-bottom: 4px;\n",
              "    }\n",
              "\n",
              "    [theme=dark] .colab-df-convert {\n",
              "      background-color: #3B4455;\n",
              "      fill: #D2E3FC;\n",
              "    }\n",
              "\n",
              "    [theme=dark] .colab-df-convert:hover {\n",
              "      background-color: #434B5C;\n",
              "      box-shadow: 0px 1px 3px 1px rgba(0, 0, 0, 0.15);\n",
              "      filter: drop-shadow(0px 1px 2px rgba(0, 0, 0, 0.3));\n",
              "      fill: #FFFFFF;\n",
              "    }\n",
              "  </style>\n",
              "\n",
              "    <script>\n",
              "      const buttonEl =\n",
              "        document.querySelector('#df-b07cc9b8-656f-48a5-a6af-1362622389eb button.colab-df-convert');\n",
              "      buttonEl.style.display =\n",
              "        google.colab.kernel.accessAllowed ? 'block' : 'none';\n",
              "\n",
              "      async function convertToInteractive(key) {\n",
              "        const element = document.querySelector('#df-b07cc9b8-656f-48a5-a6af-1362622389eb');\n",
              "        const dataTable =\n",
              "          await google.colab.kernel.invokeFunction('convertToInteractive',\n",
              "                                                    [key], {});\n",
              "        if (!dataTable) return;\n",
              "\n",
              "        const docLinkHtml = 'Like what you see? Visit the ' +\n",
              "          '<a target=\"_blank\" href=https://colab.research.google.com/notebooks/data_table.ipynb>data table notebook</a>'\n",
              "          + ' to learn more about interactive tables.';\n",
              "        element.innerHTML = '';\n",
              "        dataTable['output_type'] = 'display_data';\n",
              "        await google.colab.output.renderOutput(dataTable, element);\n",
              "        const docLink = document.createElement('div');\n",
              "        docLink.innerHTML = docLinkHtml;\n",
              "        element.appendChild(docLink);\n",
              "      }\n",
              "    </script>\n",
              "  </div>\n",
              "\n",
              "\n",
              "<div id=\"df-215fde95-b76f-45a0-b56c-f3ee096d51af\">\n",
              "  <button class=\"colab-df-quickchart\" onclick=\"quickchart('df-215fde95-b76f-45a0-b56c-f3ee096d51af')\"\n",
              "            title=\"Suggest charts.\"\n",
              "            style=\"display:none;\">\n",
              "\n",
              "<svg xmlns=\"http://www.w3.org/2000/svg\" height=\"24px\"viewBox=\"0 0 24 24\"\n",
              "     width=\"24px\">\n",
              "    <g>\n",
              "        <path d=\"M19 3H5c-1.1 0-2 .9-2 2v14c0 1.1.9 2 2 2h14c1.1 0 2-.9 2-2V5c0-1.1-.9-2-2-2zM9 17H7v-7h2v7zm4 0h-2V7h2v10zm4 0h-2v-4h2v4z\"/>\n",
              "    </g>\n",
              "</svg>\n",
              "  </button>\n",
              "\n",
              "<style>\n",
              "  .colab-df-quickchart {\n",
              "      --bg-color: #E8F0FE;\n",
              "      --fill-color: #1967D2;\n",
              "      --hover-bg-color: #E2EBFA;\n",
              "      --hover-fill-color: #174EA6;\n",
              "      --disabled-fill-color: #AAA;\n",
              "      --disabled-bg-color: #DDD;\n",
              "  }\n",
              "\n",
              "  [theme=dark] .colab-df-quickchart {\n",
              "      --bg-color: #3B4455;\n",
              "      --fill-color: #D2E3FC;\n",
              "      --hover-bg-color: #434B5C;\n",
              "      --hover-fill-color: #FFFFFF;\n",
              "      --disabled-bg-color: #3B4455;\n",
              "      --disabled-fill-color: #666;\n",
              "  }\n",
              "\n",
              "  .colab-df-quickchart {\n",
              "    background-color: var(--bg-color);\n",
              "    border: none;\n",
              "    border-radius: 50%;\n",
              "    cursor: pointer;\n",
              "    display: none;\n",
              "    fill: var(--fill-color);\n",
              "    height: 32px;\n",
              "    padding: 0;\n",
              "    width: 32px;\n",
              "  }\n",
              "\n",
              "  .colab-df-quickchart:hover {\n",
              "    background-color: var(--hover-bg-color);\n",
              "    box-shadow: 0 1px 2px rgba(60, 64, 67, 0.3), 0 1px 3px 1px rgba(60, 64, 67, 0.15);\n",
              "    fill: var(--button-hover-fill-color);\n",
              "  }\n",
              "\n",
              "  .colab-df-quickchart-complete:disabled,\n",
              "  .colab-df-quickchart-complete:disabled:hover {\n",
              "    background-color: var(--disabled-bg-color);\n",
              "    fill: var(--disabled-fill-color);\n",
              "    box-shadow: none;\n",
              "  }\n",
              "\n",
              "  .colab-df-spinner {\n",
              "    border: 2px solid var(--fill-color);\n",
              "    border-color: transparent;\n",
              "    border-bottom-color: var(--fill-color);\n",
              "    animation:\n",
              "      spin 1s steps(1) infinite;\n",
              "  }\n",
              "\n",
              "  @keyframes spin {\n",
              "    0% {\n",
              "      border-color: transparent;\n",
              "      border-bottom-color: var(--fill-color);\n",
              "      border-left-color: var(--fill-color);\n",
              "    }\n",
              "    20% {\n",
              "      border-color: transparent;\n",
              "      border-left-color: var(--fill-color);\n",
              "      border-top-color: var(--fill-color);\n",
              "    }\n",
              "    30% {\n",
              "      border-color: transparent;\n",
              "      border-left-color: var(--fill-color);\n",
              "      border-top-color: var(--fill-color);\n",
              "      border-right-color: var(--fill-color);\n",
              "    }\n",
              "    40% {\n",
              "      border-color: transparent;\n",
              "      border-right-color: var(--fill-color);\n",
              "      border-top-color: var(--fill-color);\n",
              "    }\n",
              "    60% {\n",
              "      border-color: transparent;\n",
              "      border-right-color: var(--fill-color);\n",
              "    }\n",
              "    80% {\n",
              "      border-color: transparent;\n",
              "      border-right-color: var(--fill-color);\n",
              "      border-bottom-color: var(--fill-color);\n",
              "    }\n",
              "    90% {\n",
              "      border-color: transparent;\n",
              "      border-bottom-color: var(--fill-color);\n",
              "    }\n",
              "  }\n",
              "</style>\n",
              "\n",
              "  <script>\n",
              "    async function quickchart(key) {\n",
              "      const quickchartButtonEl =\n",
              "        document.querySelector('#' + key + ' button');\n",
              "      quickchartButtonEl.disabled = true;  // To prevent multiple clicks.\n",
              "      quickchartButtonEl.classList.add('colab-df-spinner');\n",
              "      try {\n",
              "        const charts = await google.colab.kernel.invokeFunction(\n",
              "            'suggestCharts', [key], {});\n",
              "      } catch (error) {\n",
              "        console.error('Error during call to suggestCharts:', error);\n",
              "      }\n",
              "      quickchartButtonEl.classList.remove('colab-df-spinner');\n",
              "      quickchartButtonEl.classList.add('colab-df-quickchart-complete');\n",
              "    }\n",
              "    (() => {\n",
              "      let quickchartButtonEl =\n",
              "        document.querySelector('#df-215fde95-b76f-45a0-b56c-f3ee096d51af button');\n",
              "      quickchartButtonEl.style.display =\n",
              "        google.colab.kernel.accessAllowed ? 'block' : 'none';\n",
              "    })();\n",
              "  </script>\n",
              "</div>\n",
              "    </div>\n",
              "  </div>\n"
            ]
          },
          "metadata": {},
          "execution_count": 11
        }
      ]
    },
    {
      "cell_type": "code",
      "source": [
        "shuffled_data['labels'].value_counts()"
      ],
      "metadata": {
        "colab": {
          "base_uri": "https://localhost:8080/"
        },
        "id": "pHJXTS1aSVGV",
        "outputId": "a3a866a2-f6de-474b-c705-b65a2aa17015"
      },
      "execution_count": null,
      "outputs": [
        {
          "output_type": "execute_result",
          "data": {
            "text/plain": [
              "happy       1406\n",
              "angry        890\n",
              "surprise     775\n",
              "sad          746\n",
              "fear         570\n",
              "neutral      524\n",
              "disgust      439\n",
              "Name: labels, dtype: int64"
            ]
          },
          "metadata": {},
          "execution_count": 12
        }
      ]
    },
    {
      "cell_type": "code",
      "execution_count": null,
      "metadata": {
        "id": "U39veAidiuHP"
      },
      "outputs": [],
      "source": [
        "classes = ('surprise', 'disgust', 'fear', 'neutral', 'angry','sad', 'happy')"
      ]
    },
    {
      "cell_type": "code",
      "execution_count": null,
      "metadata": {
        "id": "6Rwq2-GxjHrL"
      },
      "outputs": [],
      "source": [
        "from sklearn.model_selection import train_test_split\n",
        "X = DATA['images']\n",
        "y= DATA['labels']\n",
        "X_train, X_test, y_train, y_test = train_test_split(X, y, test_size=0.2, random_state=42)"
      ]
    },
    {
      "cell_type": "code",
      "source": [
        "X_train.shape, X_test.shape, y_train.shape, y_test.shape"
      ],
      "metadata": {
        "colab": {
          "base_uri": "https://localhost:8080/"
        },
        "id": "N2_PIItjYuCZ",
        "outputId": "659a87ee-c194-407c-ce9e-693c5de41533"
      },
      "execution_count": null,
      "outputs": [
        {
          "output_type": "execute_result",
          "data": {
            "text/plain": [
              "((32989,), (8248,), (32989,), (8248,))"
            ]
          },
          "metadata": {},
          "execution_count": 15
        }
      ]
    },
    {
      "cell_type": "code",
      "source": [
        "print( \" y_train -------\" , y_train.value_counts() , \"y_test-------\\n\" , y_test.value_counts())"
      ],
      "metadata": {
        "colab": {
          "base_uri": "https://localhost:8080/"
        },
        "id": "96AXYyAS6G5x",
        "outputId": "210a7df2-66ae-420e-ae9b-cee03b96f05f"
      },
      "execution_count": null,
      "outputs": [
        {
          "output_type": "stream",
          "name": "stdout",
          "text": [
            " y_train ------- happy       8267\n",
            "sad         5461\n",
            "neutral     5438\n",
            "angry       4732\n",
            "fear        4504\n",
            "surprise    3799\n",
            "disgust      788\n",
            "Name: labels, dtype: int64 y_test-------\n",
            " happy       2128\n",
            "sad         1362\n",
            "neutral     1284\n",
            "fear        1187\n",
            "angry       1111\n",
            "surprise     978\n",
            "disgust      198\n",
            "Name: labels, dtype: int64\n"
          ]
        }
      ]
    },
    {
      "cell_type": "markdown",
      "metadata": {
        "id": "SDC__7IhgSXf"
      },
      "source": [
        "# **Exploratory Data Analysis**"
      ]
    },
    {
      "cell_type": "code",
      "execution_count": null,
      "metadata": {
        "colab": {
          "base_uri": "https://localhost:8080/",
          "height": 466
        },
        "id": "zXQ3dkY5O4J3",
        "outputId": "3d028701-c67c-43e0-faab-9a5c4b49d1eb"
      },
      "outputs": [
        {
          "output_type": "execute_result",
          "data": {
            "text/plain": [
              "<Axes: xlabel='labels', ylabel='count'>"
            ]
          },
          "metadata": {},
          "execution_count": 17
        },
        {
          "output_type": "display_data",
          "data": {
            "text/plain": [
              "<Figure size 640x480 with 1 Axes>"
            ],
            "image/png": "[encoded data removed]"
          },
          "metadata": {}
        }
      ],
      "source": [
        "sns.countplot(data=DATA, x='labels')"
      ]
    },
    {
      "cell_type": "code",
      "source": [
        "from PIL import Image\n",
        "import matplotlib.pyplot as plt\n",
        "# display grid of images\n",
        "plt.figure(figsize=(10,10))\n",
        "file = DATA.iloc[0:10]\n",
        "images= file['images']\n",
        "target = file['labels']\n",
        "train = train.sample(frac = 1).reset_index(drop=True)\n",
        "for idx in range(len(images)) :\n",
        "  plt.subplot(4,4,idx+1)\n",
        "  imgs = Image.open(images[idx])\n",
        "  plt.imshow(imgs , cmap='gray')\n",
        "  plt.axis('off')\n",
        "  plt.title(target[idx])"
      ],
      "metadata": {
        "colab": {
          "base_uri": "https://localhost:8080/",
          "height": 628
        },
        "id": "GjO8x98zcSLD",
        "outputId": "6bdbe734-c623-4409-c6e8-1889c1fa251a"
      },
      "execution_count": null,
      "outputs": [
        {
          "output_type": "display_data",
          "data": {
            "text/plain": [
              "<Figure size 1000x1000 with 10 Axes>"
            ],
            "image/png": "[encoded data removed]"
          },
          "metadata": {}
        }
      ]
    },
    {
      "cell_type": "code",
      "execution_count": null,
      "metadata": {
        "colab": {
          "base_uri": "https://localhost:8080/"
        },
        "id": "KzgsO6pCO4RT",
        "outputId": "2a8c32dc-a2c9-4f6b-d31c-32c4fad0f478"
      },
      "outputs": [
        {
          "output_type": "stream",
          "name": "stderr",
          "text": [
            "100%|██████████| 32989/32989 [00:17<00:00, 1894.53it/s]\n",
            "100%|██████████| 8248/8248 [00:03<00:00, 2130.66it/s]\n"
          ]
        }
      ],
      "source": [
        "from tqdm import tqdm\n",
        "import torch\n",
        "import torchvision.transforms as transforms\n",
        "from torchvision import datasets\n",
        "\n",
        "# transform path to image\n",
        "def read_images(images):\n",
        "    features = []\n",
        "    transform = transforms.Compose([transforms.Grayscale(num_output_channels=1),\n",
        "                                    transforms.Resize(size=(64, 64)),\n",
        "                                    transforms.ToTensor()\n",
        " ])\n",
        "\n",
        "    for img_path in tqdm(images):\n",
        "      img = datasets.folder.default_loader(img_path)\n",
        "      img = transform(img)\n",
        "      features.append(img)\n",
        "\n",
        "    features = torch.stack(features)\n",
        "    return features\n",
        "\n",
        "train_features= read_images(X_train)\n",
        "test_features = read_images(X_test)\n",
        "\n",
        "X_train = train_features/255.0\n",
        "X_test = test_features/255.0"
      ]
    },
    {
      "cell_type": "code",
      "source": [
        "X_train.shape,X_test.shape"
      ],
      "metadata": {
        "colab": {
          "base_uri": "https://localhost:8080/"
        },
        "id": "ApdjVULXuvp4",
        "outputId": "f441dd9a-4fd7-4670-ad4e-eaa03c49affb"
      },
      "execution_count": null,
      "outputs": [
        {
          "output_type": "execute_result",
          "data": {
            "text/plain": [
              "(torch.Size([32989, 1, 64, 64]), torch.Size([8248, 1, 64, 64]))"
            ]
          },
          "metadata": {},
          "execution_count": 20
        }
      ]
    },
    {
      "cell_type": "code",
      "source": [
        "from sklearn.preprocessing import LabelEncoder\n",
        "label_encoder = LabelEncoder()\n",
        "y_train = label_encoder.fit_transform(y_train)\n",
        "y_test = label_encoder.fit_transform(y_test)"
      ],
      "metadata": {
        "id": "7LX2lZOuvoas"
      },
      "execution_count": null,
      "outputs": []
    },
    {
      "cell_type": "code",
      "execution_count": null,
      "metadata": {
        "colab": {
          "base_uri": "https://localhost:8080/"
        },
        "id": "Y1kv_sM4wHRD",
        "outputId": "8eb4dd04-5c67-4ab6-8208-187c4e243144"
      },
      "outputs": [
        {
          "output_type": "stream",
          "name": "stdout",
          "text": [
            "dataloader : (<torch.utils.data.dataloader.DataLoader object at 0x7fae644946d0>, <torch.utils.data.dataloader.DataLoader object at 0x7fae64496470>)\n",
            "Length of train_dataloader : 1031 batches of 32\n",
            "Length of test_dataloader : 258 batches of 32\n"
          ]
        }
      ],
      "source": [
        "from torch.utils.data import DataLoader,TensorDataset\n",
        "# Setup  the batch size hyperparametre\n",
        "BATCH_SIZE = 32\n",
        "\n",
        "\n",
        "# Make sure the data is PyTorch tensors\n",
        "X_train = torch.Tensor(X_train)\n",
        "y_train = torch.Tensor(y_train)\n",
        "X_test = torch.Tensor(X_test)\n",
        "y_test = torch.Tensor(y_test)\n",
        "X_train.shape\n",
        "# Create a dataset for training and testing data\n",
        "train_dataset = TensorDataset(X_train, y_train)\n",
        "test_dataset = TensorDataset(X_test, y_test)\n",
        "\n",
        "\n",
        "# Turn datasets into iterables (batch)\n",
        "train_dataloader = DataLoader(dataset=train_dataset ,\n",
        "                              batch_size = BATCH_SIZE ,\n",
        "                              shuffle = True\n",
        "                              )\n",
        "test_dataloader = DataLoader(dataset=test_dataset ,\n",
        "                              batch_size = BATCH_SIZE ,\n",
        "                              shuffle = False\n",
        "                              )\n",
        "train_dataloader , test_dataloader\n",
        "\n",
        "print(f\"dataloader : {train_dataloader , test_dataloader}\")\n",
        "print(f\"Length of train_dataloader : {len(train_dataloader)} batches of {BATCH_SIZE}\")\n",
        "print(f\"Length of test_dataloader : {len(test_dataloader)} batches of {BATCH_SIZE}\")"
      ]
    },
    {
      "cell_type": "code",
      "execution_count": null,
      "metadata": {
        "colab": {
          "base_uri": "https://localhost:8080/"
        },
        "id": "vnlsrAej3tZG",
        "outputId": "89f0d536-6208-4688-8ce6-4235e15c7006"
      },
      "outputs": [
        {
          "output_type": "execute_result",
          "data": {
            "text/plain": [
              "(torch.Size([32, 1, 64, 64]), torch.Size([32]))"
            ]
          },
          "metadata": {},
          "execution_count": 23
        }
      ],
      "source": [
        "# Check out what's inside the training dataloader\n",
        "train_features_batch, train_labels_batch = next(iter(train_dataloader))\n",
        "train_features_batch.shape, train_labels_batch.shape"
      ]
    },
    {
      "cell_type": "code",
      "execution_count": null,
      "metadata": {
        "colab": {
          "base_uri": "https://localhost:8080/"
        },
        "id": "DV_H0ERf3tbp",
        "outputId": "7dcec23f-e220-4862-f8bb-c9932148577b"
      },
      "outputs": [
        {
          "output_type": "execute_result",
          "data": {
            "text/plain": [
              "(torch.Size([32, 1, 64, 64]), torch.Size([32]))"
            ]
          },
          "metadata": {},
          "execution_count": 24
        }
      ],
      "source": [
        "# Check out what's inside the testing dataloader\n",
        "train_features_batch, train_labels_batch = next(iter(test_dataloader))\n",
        "train_features_batch.shape, train_labels_batch.shape"
      ]
    },
    {
      "cell_type": "markdown",
      "metadata": {
        "id": "E8zVI8AU-aUc"
      },
      "source": [
        "# **1. Build the Models**"
      ]
    },
    {
      "cell_type": "code",
      "execution_count": null,
      "metadata": {
        "id": "c0g-ybt-eiho",
        "colab": {
          "base_uri": "https://localhost:8080/",
          "height": 35
        },
        "outputId": "50fe1f6a-05e7-437d-d4d0-63166d80eef4"
      },
      "outputs": [
        {
          "output_type": "execute_result",
          "data": {
            "text/plain": [
              "'cuda'"
            ],
            "application/vnd.google.colaboratory.intrinsic+json": {
              "type": "string"
            }
          },
          "metadata": {},
          "execution_count": 25
        }
      ],
      "source": [
        "# Setup device agnostic code\n",
        "device = \"cuda\" if torch.cuda.is_available() else \"cpu\"\n",
        "device"
      ]
    },
    {
      "cell_type": "markdown",
      "metadata": {
        "id": "5HCUKiQZ1fw6"
      },
      "source": [
        " **Accuracy Function**"
      ]
    },
    {
      "cell_type": "code",
      "execution_count": null,
      "metadata": {
        "id": "LrWQs0z21jSs"
      },
      "outputs": [],
      "source": [
        "import torch\n",
        "from sklearn.metrics import f1_score\n",
        "\n",
        "def accuracy_fn1(y_true , y_pred) :\n",
        "  y_true = y_true.cpu().numpy()  # Convertir les tenseurs PyTorch en tableaux NumPy\n",
        "  y_pred = y_pred.cpu().numpy()\n",
        "  f1 = f1_score(y_true, y_pred, average='weighted')  # Vous pouvez spécifier 'micro', 'macro', 'weighted', etc., selon votre besoin\n",
        "  return f1\n",
        "\n"
      ]
    },
    {
      "cell_type": "code",
      "source": [
        "import torch\n",
        "from torch.utils.data import DataLoader, Subset\n",
        "from sklearn.model_selection import KFold\n",
        "import statistics\n",
        "\n",
        "def train_step_with_cv(model, data_loader, loss_fn, optimizer, accuracy_fn, device, n_splits=5, num_epochs=10):\n",
        "    model.to(device)\n",
        "\n",
        "    # Create a KFold cross-validator\n",
        "    kf = KFold(n_splits=n_splits, shuffle=True, random_state=42)\n",
        "\n",
        "    train_acc_list = []\n",
        "    dev_acc_list = []\n",
        "    train_loss_list = []\n",
        "    dev_loss_list = []\n",
        "\n",
        "    for train_indices, val_indices in tqdm(kf.split(data_loader.dataset)):\n",
        "        # Create data loaders for training and validation folds\n",
        "        train_subset = Subset(data_loader.dataset, train_indices)\n",
        "        val_subset = Subset(data_loader.dataset, val_indices)\n",
        "        train_loader = DataLoader(train_subset, batch_size=data_loader.batch_size, shuffle=True)\n",
        "        val_loader = DataLoader(val_subset, batch_size=data_loader.batch_size)\n",
        "\n",
        "        model.train()\n",
        "\n",
        "        train_loss = 0\n",
        "        train_acc = 0\n",
        "\n",
        "        for epoch in range(num_epochs):\n",
        "            # Training loop\n",
        "            for batch, (X, y) in enumerate(train_loader):\n",
        "                # Send data to GPU\n",
        "                X, y = X.float().to(device), y.long().to(device)\n",
        "\n",
        "                # 1. Forward pass\n",
        "                y_pred = model(X)\n",
        "\n",
        "                # 2. Calculate loss\n",
        "                loss = loss_fn(y_pred, y)\n",
        "                train_loss += loss.item()\n",
        "                train_acc += accuracy_fn(y_true=y, y_pred=y_pred.argmax(dim=1))\n",
        "\n",
        "                # 3. Optimizer zero grad\n",
        "                optimizer.zero_grad()\n",
        "\n",
        "                # 4. Loss backward\n",
        "                loss.backward()\n",
        "\n",
        "                # 5. Optimizer step\n",
        "                optimizer.step()\n",
        "\n",
        "            train_loss /= len(train_loader)\n",
        "            train_acc /= len(train_loader)\n",
        "\n",
        "        train_loss_list.append(train_loss)\n",
        "        train_acc_list.append(train_acc)\n",
        "\n",
        "        # Validation loop\n",
        "        val_loss, val_acc = eval_model(model, val_loader, loss_fn, accuracy_fn)\n",
        "        dev_loss_list.append(val_loss)\n",
        "        dev_acc_list.append(val_acc)\n",
        "\n",
        "    print(f\"Train Loss: {statistics.mean(train_loss_list):.5f} | Train Accuracy: {statistics.mean(train_acc_list):.2f}\")\n",
        "    print(f\"Validation Loss: {statistics.mean(dev_loss_list):.5f} | Validation Accuracy: {statistics.mean(dev_acc_list):.2f}\")\n",
        "\n"
      ],
      "metadata": {
        "id": "t_M3baU93BNN"
      },
      "execution_count": null,
      "outputs": []
    },
    {
      "cell_type": "markdown",
      "metadata": {
        "id": "xCYAP25dy9fa"
      },
      "source": [
        "**function to train and test the model**"
      ]
    },
    {
      "cell_type": "code",
      "execution_count": null,
      "metadata": {
        "id": "rKHq9LWf3tpc"
      },
      "outputs": [],
      "source": [
        "def test_step(data_loader: torch.utils.data.DataLoader,\n",
        "              model: torch.nn.Module,\n",
        "              loss_fn: torch.nn.Module,\n",
        "              accuracy_fn,\n",
        "              device: torch.device = device):\n",
        "  test_loss, test_acc = 0, 0\n",
        "  model.to(device)\n",
        "  model.eval() # put model in eval mode\n",
        "  # Turn on inference context manager\n",
        "  with torch.inference_mode():\n",
        "    for X, y in data_loader:\n",
        "      # Send data to GPU\n",
        "      X, y = X.float().to(device), y.long().to(device)\n",
        "\n",
        "      # 1. Forward pass\n",
        "      test_pred = model(X)\n",
        "\n",
        "      # 2. Calculate loss and accuracy\n",
        "      test_loss += loss_fn(test_pred, y)\n",
        "      test_acc += accuracy_fn(y_true=y,\n",
        "                y_pred=test_pred.argmax(dim=1) # Go from logits -> pred labels\n",
        "            )\n",
        "\n",
        "    # Adjust metrics and print out\n",
        "    test_loss /= len(data_loader)\n",
        "    test_acc /= len(data_loader)\n",
        "    print(f\"Test loss: {test_loss:.5f} | Test accuracy: {test_acc:.2f}\\n\")"
      ]
    },
    {
      "cell_type": "markdown",
      "metadata": {
        "id": "dWo1rAo9zno8"
      },
      "source": [
        "**measure the time it takes our model to train**"
      ]
    },
    {
      "cell_type": "code",
      "execution_count": null,
      "metadata": {
        "id": "ziFAvCBWzfDs"
      },
      "outputs": [],
      "source": [
        "from timeit import default_timer as timer\n",
        "def print_train_time(start:float,\n",
        "                        end:float,\n",
        "                        device:torch.device=None):\n",
        "  total_time = end - start\n",
        "  print(f\"Train time on {device}: {total_time:.3f} seconds\")\n",
        "  return total_time"
      ]
    },
    {
      "cell_type": "code",
      "execution_count": null,
      "metadata": {
        "id": "iy3ZlfKw3tsM",
        "colab": {
          "base_uri": "https://localhost:8080/"
        },
        "outputId": "8f4e613d-be74-4a76-f510-a9ea22f3cfac"
      },
      "outputs": [
        {
          "output_type": "stream",
          "name": "stdout",
          "text": [
            "Train time on cpu: 0.000 seconds\n"
          ]
        },
        {
          "output_type": "execute_result",
          "data": {
            "text/plain": [
              "2.6407000405015424e-05"
            ]
          },
          "metadata": {},
          "execution_count": 30
        }
      ],
      "source": [
        "start_time= timer()\n",
        "end_time=timer()\n",
        "print_train_time(start=start_time,end=end_time,device='cpu')"
      ]
    },
    {
      "cell_type": "markdown",
      "metadata": {
        "id": "l0k9vDte0Oe5"
      },
      "source": [
        "# **Training and testing model_1 using our training and test functions**\n",
        "\n"
      ]
    },
    {
      "cell_type": "markdown",
      "metadata": {
        "id": "cK6lphpBE1sh"
      },
      "source": [
        "**Make predictions and get Model 0 results**"
      ]
    },
    {
      "cell_type": "code",
      "execution_count": null,
      "metadata": {
        "id": "g_57wm6jzM6Z"
      },
      "outputs": [],
      "source": [
        "torch.manual_seed(42)\n",
        "import torch\n",
        "\n",
        "def eval_model(model, data_loader, loss_fn, accuracy_fn):\n",
        "    model.eval()\n",
        "    total_loss = 0.0\n",
        "    total_acc = 0.0\n",
        "\n",
        "    with torch.no_grad():\n",
        "        for batch in data_loader:\n",
        "            inputs, labels = batch\n",
        "            inputs = inputs.float().to(device)\n",
        "            labels = labels.long().to(device)\n",
        "\n",
        "            outputs = model(inputs)\n",
        "            loss = loss_fn(outputs, labels)\n",
        "            total_loss += loss.item()\n",
        "\n",
        "            predictions = outputs.argmax(dim=1)\n",
        "            acc = accuracy_fn(labels, predictions)\n",
        "            total_acc += acc\n",
        "\n",
        "    # Calculez la somme totale de la perte et de l'accuracy, puis divisez par le nombre de lots\n",
        "    avg_loss = total_loss / len(data_loader)\n",
        "    avg_acc = total_acc / len(data_loader)\n",
        "\n",
        "    return avg_loss, avg_acc\n",
        "\n",
        "\n"
      ]
    },
    {
      "cell_type": "markdown",
      "metadata": {
        "id": "CazH-Pb-GnPV"
      },
      "source": [
        "**More Complexity Model** : Because Model_1 has a Underfitting .so, I want to try a model more complexe ."
      ]
    },
    {
      "cell_type": "code",
      "execution_count": null,
      "metadata": {
        "id": "Ekn2Kp-CK4Jm"
      },
      "outputs": [],
      "source": [
        "import torch\n",
        "import torch.nn as nn\n",
        "\n",
        "import torch.nn as nn\n",
        "\n",
        "\n",
        "\n",
        "class LinearWithRegularization(nn.Module):\n",
        "    def __init__(self, in_features, out_features, l1_reg=0.01, l2_reg=0.01):\n",
        "        super().__init__()\n",
        "        self.linear = nn.Linear(in_features, out_features)\n",
        "        self.l1_reg = l1_reg\n",
        "        self.l2_reg = l2_reg\n",
        "\n",
        "    def forward(self, x):\n",
        "        # Calcul de la sortie de la couche linéaire\n",
        "        out = self.linear(x)\n",
        "\n",
        "        # Ajout de la régularisation L1 et L2 aux poids\n",
        "        l1_loss = self.l1_reg * torch.sum(torch.abs(self.linear.weight))\n",
        "        l2_loss = self.l2_reg * torch.sum(self.linear.weight**2)\n",
        "\n",
        "        # Ajout de la régularisation aux pertes totales\n",
        "        loss = out + l1_loss + l2_loss\n",
        "\n",
        "        return loss\n",
        "\n",
        "class Face_im_rec_model_1(nn.Module):\n",
        "  def __init__(self, input_shape:int, hidden_units:int,output_shape:int):\n",
        "    super().__init__()\n",
        "    self.bloc1 = nn.Sequential(\n",
        "            nn.Conv2d(in_channels=input_shape,\n",
        "                  out_channels=hidden_units,\n",
        "                  kernel_size=3 ,\n",
        "                  stride=1 ,\n",
        "                  padding=1),\n",
        "            nn.BatchNorm2d(hidden_units) ,\n",
        "            nn.MaxPool2d(2, 1),\n",
        "            nn.ReLU())\n",
        "    self.batchnorm1 = nn.BatchNorm2d(input_shape)\n",
        "\n",
        "    self.bloc2 = nn.Sequential(\n",
        "            nn.Conv2d(in_channels=hidden_units,\n",
        "                  out_channels=hidden_units,\n",
        "                  kernel_size=3 ,\n",
        "                  stride=1 ,\n",
        "                  padding=1),\n",
        "            nn.BatchNorm2d(hidden_units) ,\n",
        "            nn.MaxPool2d(2, 1),\n",
        "            nn.ReLU())\n",
        "\n",
        "\n",
        "\n",
        "    self.bloc3 = nn.Sequential(\n",
        "            nn.Conv2d(in_channels=hidden_units,\n",
        "                  out_channels=hidden_units,\n",
        "                  kernel_size=3 ,\n",
        "                  stride=1 ,\n",
        "                  padding=1),\n",
        "            nn.BatchNorm2d(hidden_units) ,\n",
        "            nn.MaxPool2d(2, 2),\n",
        "            nn.ReLU())\n",
        "    self.bloc4 = nn.Sequential(\n",
        "            nn.Conv2d(in_channels=hidden_units,\n",
        "                  out_channels=hidden_units,\n",
        "                  kernel_size=3 ,\n",
        "                  stride=1 ,\n",
        "                  padding=1),\n",
        "            nn.BatchNorm2d(hidden_units) ,\n",
        "            nn.MaxPool2d(2, 2),\n",
        "            nn.ReLU())\n",
        "\n",
        "    self.bloc5 = nn.Sequential(\n",
        "            nn.Conv2d(in_channels=hidden_units,\n",
        "                  out_channels=hidden_units,\n",
        "                  kernel_size=3 ,\n",
        "                  stride=1 ,\n",
        "                  padding=1),\n",
        "            nn.BatchNorm2d(hidden_units) ,\n",
        "            nn.MaxPool2d(2, 1),\n",
        "            nn.ReLU())\n",
        "    self.bloc6 = nn.Sequential(\n",
        "            nn.Conv2d(in_channels=hidden_units,\n",
        "                  out_channels=hidden_units,\n",
        "                  kernel_size=3 ,\n",
        "                  stride=1 ,\n",
        "                  padding=1),\n",
        "            nn.BatchNorm2d(hidden_units) ,\n",
        "            nn.MaxPool2d(2, 1),\n",
        "            nn.ReLU())\n",
        "    self.bloc7 = nn.Sequential(\n",
        "            nn.Conv2d(in_channels=hidden_units,\n",
        "                  out_channels=hidden_units,\n",
        "                  kernel_size=3 ,\n",
        "                  stride=1 ,\n",
        "                  padding=1),\n",
        "            nn.BatchNorm2d(hidden_units) ,\n",
        "            nn.MaxPool2d(2, 2),\n",
        "            nn.ReLU())\n",
        "\n",
        "    self.bloc8= nn.Sequential(\n",
        "            nn.Flatten(),\n",
        "            nn.Linear(hidden_units*6*6,hidden_units*6*6),\n",
        "            nn.ReLU(),\n",
        "            nn.Dropout(0.3))\n",
        "\n",
        "    self.bloc9 = nn.Sequential(\n",
        "            nn.Linear(hidden_units*6*6,hidden_units*6*6),\n",
        "            nn.ReLU(),\n",
        "            nn.Dropout(0.5))\n",
        "    self.bloc10 = nn.Sequential(\n",
        "            nn.Linear(hidden_units*6*6,hidden_units*6*6),\n",
        "            nn.ReLU(),\n",
        "            nn.Dropout(0.3))\n",
        "\n",
        "    self.bloc11 = nn.Sequential(\n",
        "          LinearWithRegularization(hidden_units*6*6, hidden_units*6*6, l1_reg=0.01, l2_reg=0.01),\n",
        "          nn.LogSoftmax(dim=1))\n",
        "\n",
        "  def forward(self, x):\n",
        "    noise = torch.randn_like(x) * 0.1     #std=0.1*\n",
        "    x = self.batchnorm1(x)\n",
        "    x = x+noise\n",
        "    x = self.bloc1(x)\n",
        "    x = self.bloc2(x)\n",
        "    x = self.bloc3(x)\n",
        "    x = self.bloc4(x)\n",
        "    x = self.bloc5(x)\n",
        "    x = self.bloc6(x)\n",
        "    x = self.bloc7(x)\n",
        "    x = self.bloc8(x)\n",
        "    x = self.bloc9(x)\n",
        "    x = self.bloc10(x)\n",
        "    x = self.bloc11(x)\n",
        "\n",
        "    return x\n",
        "\n"
      ]
    },
    {
      "cell_type": "code",
      "execution_count": null,
      "metadata": {
        "id": "t3TEG2nPMtHx"
      },
      "outputs": [],
      "source": [
        "model_1 = Face_im_rec_model_1(input_shape=1,\n",
        "                              hidden_units=10,\n",
        "                              output_shape=7).to(device)"
      ]
    },
    {
      "cell_type": "code",
      "execution_count": null,
      "metadata": {
        "colab": {
          "base_uri": "https://localhost:8080/"
        },
        "id": "2l6fodGCO7mu",
        "outputId": "6c779915-f2d7-4392-b8d9-e9337cef8469"
      },
      "outputs": [
        {
          "output_type": "execute_result",
          "data": {
            "text/plain": [
              "tensor([[-5.8474, -5.9575, -5.7694, -5.7975, -5.9528, -5.9613, -5.8136, -5.8767,\n",
              "         -5.8218, -5.8014, -5.7827, -5.8559, -5.8517, -5.7947, -5.9072, -5.9459,\n",
              "         -5.7749, -5.8651, -5.9032, -5.9338, -5.8795, -6.0460, -5.9022, -5.9078,\n",
              "         -5.7956, -5.8210, -5.8833, -5.8014, -5.9360, -5.9146, -5.8431, -5.8984,\n",
              "         -5.7902, -5.9513, -5.8245, -5.8619, -5.7219, -5.8555, -5.8411, -5.7975,\n",
              "         -5.9052, -5.9905, -5.8361, -6.0870, -5.9249, -5.7848, -5.8564, -5.9374,\n",
              "         -5.9847, -5.9370, -5.8656, -5.9885, -5.9241, -5.9441, -5.8533, -5.8376,\n",
              "         -5.8317, -5.9586, -5.8988, -5.9681, -6.0175, -5.9357, -5.8809, -5.8879,\n",
              "         -5.8726, -5.9029, -5.9151, -5.9987, -5.9629, -6.1424, -5.9419, -5.9605,\n",
              "         -5.9500, -5.9033, -5.8536, -5.7827, -5.9369, -5.9550, -5.9545, -5.9899,\n",
              "         -5.8701, -5.8954, -5.8621, -5.8182, -5.9660, -5.6718, -5.9135, -5.9689,\n",
              "         -5.7813, -5.8184, -5.8090, -5.8840, -6.0961, -5.9694, -5.9260, -5.8613,\n",
              "         -5.9333, -5.9116, -5.9068, -6.0359, -5.9170, -5.9139, -5.7695, -5.8718,\n",
              "         -5.8360, -5.8817, -5.7945, -5.9203, -5.8374, -5.7442, -5.8241, -5.9463,\n",
              "         -6.0067, -5.8282, -5.9078, -5.7902, -5.9990, -5.8858, -5.8844, -5.8396,\n",
              "         -5.8490, -5.9049, -5.8589, -5.8709, -5.9059, -5.8180, -5.9593, -5.8089,\n",
              "         -5.8096, -5.8768, -5.7880, -5.8719, -5.8478, -5.9213, -5.8646, -5.9892,\n",
              "         -5.7999, -5.9418, -5.7746, -5.8222, -6.0012, -5.8563, -5.8398, -5.8749,\n",
              "         -5.8268, -5.9132, -5.9499, -5.9770, -5.7763, -5.6864, -5.9677, -5.7331,\n",
              "         -5.9268, -5.9206, -5.9040, -5.9275, -6.0782, -5.7975, -5.9439, -5.9377,\n",
              "         -5.8219, -5.8740, -5.9253, -5.9018, -5.9268, -5.8351, -5.8728, -5.9451,\n",
              "         -5.8442, -5.9557, -5.9065, -5.9790, -6.0306, -5.9672, -5.8968, -5.8004,\n",
              "         -5.9342, -5.9211, -5.8572, -5.8387, -5.9074, -5.7829, -5.8793, -5.8060,\n",
              "         -5.9463, -6.0034, -5.9282, -5.7711, -5.8707, -5.9451, -6.0152, -5.9830,\n",
              "         -5.8773, -6.0958, -5.8857, -5.9802, -5.8468, -5.7820, -5.8606, -6.0075,\n",
              "         -5.8887, -5.9811, -5.8955, -6.1147, -5.9104, -5.8250, -5.7976, -5.7881,\n",
              "         -5.8062, -5.7220, -5.7746, -5.7836, -5.9861, -5.8447, -5.8238, -5.9550,\n",
              "         -5.8895, -6.0047, -5.9607, -5.8315, -6.0485, -5.9277, -6.0336, -5.8031,\n",
              "         -5.7199, -5.8769, -5.9559, -5.8209, -5.9127, -5.8199, -5.9002, -5.8915,\n",
              "         -6.0004, -6.0080, -5.8164, -5.7820, -5.8449, -5.7701, -5.9581, -5.9926,\n",
              "         -5.7566, -6.0315, -5.9658, -6.0132, -5.8628, -5.8890, -5.8875, -5.9894,\n",
              "         -6.0409, -5.9031, -5.9241, -5.8835, -5.8380, -5.8292, -5.8028, -5.9905,\n",
              "         -5.8806, -5.9164, -5.8362, -5.8072, -5.9771, -5.8292, -5.8247, -5.9302,\n",
              "         -5.8789, -5.9412, -5.7976, -5.8108, -5.8103, -5.8929, -5.9355, -5.8413,\n",
              "         -5.8401, -6.0868, -5.9757, -5.9021, -5.7759, -5.9225, -5.7900, -5.9174,\n",
              "         -5.8728, -5.9034, -5.7895, -5.8429, -5.8680, -5.8440, -5.7850, -5.7313,\n",
              "         -5.9971, -5.8480, -5.8770, -5.9595, -5.9031, -5.7790, -5.9839, -5.8787,\n",
              "         -5.8858, -5.9622, -5.9319, -5.9292, -5.8529, -5.8186, -5.8974, -5.8789,\n",
              "         -5.7897, -5.7776, -5.8958, -6.1059, -5.8872, -5.8250, -5.9117, -5.8189,\n",
              "         -5.8514, -5.8406, -5.7590, -6.0485, -5.8680, -5.7898, -5.9036, -5.7820,\n",
              "         -5.9993, -5.9032, -5.9439, -5.9541, -5.9175, -5.7851, -5.9111, -5.8554,\n",
              "         -5.9835, -5.8233, -5.8858, -5.9433, -5.9905, -5.7368, -5.9618, -5.7871,\n",
              "         -5.9725, -6.0299, -5.9344, -5.9369, -5.8427, -5.8077, -5.9049, -5.8119,\n",
              "         -5.9134, -5.8700, -5.8236, -5.9316, -5.8099, -5.9103, -5.8671, -5.8594,\n",
              "         -5.9297, -5.9527, -5.9812, -5.8380, -5.9800, -5.8341, -5.8013, -5.9536]],\n",
              "       device='cuda:0', grad_fn=<LogSoftmaxBackward0>)"
            ]
          },
          "metadata": {},
          "execution_count": 52
        }
      ],
      "source": [
        "x = train_features_batch[0]\n",
        "x.shape,x.unsqueeze(dim=0).shape\n",
        "model_1(x.unsqueeze(dim=0).to(device))"
      ]
    },
    {
      "cell_type": "code",
      "execution_count": null,
      "metadata": {
        "id": "uhl5EIw5SIl7"
      },
      "outputs": [],
      "source": [
        "# setup loss function/eval metrics/optimizer\n",
        "loss_fn1 = nn.CrossEntropyLoss()\n",
        "weight_decay = 1e-4\n",
        "optimizer1 = torch.optim.Adam(params=model_1.parameters(),\n",
        "                             lr=0.001)"
      ]
    },
    {
      "cell_type": "code",
      "execution_count": null,
      "metadata": {
        "colab": {
          "base_uri": "https://localhost:8080/"
        },
        "id": "cBS3M-2kR5Zp",
        "outputId": "01b615f0-28ae-4041-edb7-25606d1c069e"
      },
      "outputs": [
        {
          "metadata": {
            "tags": null
          },
          "name": "stderr",
          "output_type": "stream",
          "text": [
            "\r  0%|          | 0/50 [00:00<?, ?it/s]"
          ]
        },
        {
          "metadata": {
            "tags": null
          },
          "name": "stdout",
          "output_type": "stream",
          "text": [
            "Epoch:0\n",
            "---------\n"
          ]
        },
        {
          "metadata": {
            "tags": null
          },
          "name": "stderr",
          "output_type": "stream",
          "text": [
            "\n",
            "0it [00:00, ?it/s]\u001b[A\n",
            "1it [01:18, 78.18s/it]\u001b[A\n",
            "2it [02:35, 77.91s/it]\u001b[A\n",
            "3it [03:53, 77.56s/it]\u001b[A\n",
            "4it [05:11, 77.85s/it]\u001b[A\n",
            "5it [06:29, 77.80s/it]\n"
          ]
        },
        {
          "metadata": {
            "tags": null
          },
          "name": "stdout",
          "output_type": "stream",
          "text": [
            "Train Loss: 0.94141 | Train Accuracy: 0.64\n",
            "Validation Loss: 1.01174 | Validation Accuracy: 0.61\n"
          ]
        },
        {
          "metadata": {
            "tags": null
          },
          "name": "stderr",
          "output_type": "stream",
          "text": [
            "\r  2%|▏         | 1/50 [06:29<5:18:28, 389.97s/it]"
          ]
        },
        {
          "metadata": {
            "tags": null
          },
          "name": "stdout",
          "output_type": "stream",
          "text": [
            "Test loss: 1.30306 | Test accuracy: 0.56\n",
            "\n",
            "Epoch:1\n",
            "---------\n"
          ]
        },
        {
          "metadata": {
            "tags": null
          },
          "name": "stderr",
          "output_type": "stream",
          "text": [
            "\n",
            "0it [00:00, ?it/s]\u001b[A\n",
            "1it [01:18, 78.18s/it]\u001b[A\n",
            "2it [02:36, 78.21s/it]\u001b[A\n",
            "3it [03:54, 78.09s/it]\u001b[A\n",
            "4it [05:12, 78.18s/it]\u001b[A\n",
            "5it [06:30, 78.17s/it]\n"
          ]
        },
        {
          "metadata": {
            "tags": null
          },
          "name": "stdout",
          "output_type": "stream",
          "text": [
            "Train Loss: 0.62391 | Train Accuracy: 0.77\n",
            "Validation Loss: 0.61144 | Validation Accuracy: 0.77\n"
          ]
        },
        {
          "metadata": {
            "tags": null
          },
          "name": "stderr",
          "output_type": "stream",
          "text": [
            "\r  4%|▍         | 2/50 [13:01<5:12:51, 391.07s/it]"
          ]
        },
        {
          "metadata": {
            "tags": null
          },
          "name": "stdout",
          "output_type": "stream",
          "text": [
            "Test loss: 1.54648 | Test accuracy: 0.56\n",
            "\n",
            "Epoch:2\n",
            "---------\n"
          ]
        },
        {
          "metadata": {
            "tags": null
          },
          "name": "stderr",
          "output_type": "stream",
          "text": [
            "\n",
            "0it [00:00, ?it/s]\u001b[A\n",
            "1it [01:17, 77.69s/it]\u001b[A\n",
            "2it [02:35, 77.96s/it]\u001b[A\n",
            "3it [03:53, 77.96s/it]\u001b[A\n",
            "4it [05:11, 78.02s/it]\u001b[A\n",
            "5it [06:30, 78.06s/it]\n"
          ]
        },
        {
          "metadata": {
            "tags": null
          },
          "name": "stdout",
          "output_type": "stream",
          "text": [
            "Train Loss: 0.50428 | Train Accuracy: 0.82\n",
            "Validation Loss: 0.43000 | Validation Accuracy: 0.85\n"
          ]
        },
        {
          "metadata": {
            "tags": null
          },
          "name": "stderr",
          "output_type": "stream",
          "text": [
            "\r  6%|▌         | 3/50 [19:33<5:06:24, 391.16s/it]"
          ]
        },
        {
          "metadata": {
            "tags": null
          },
          "name": "stdout",
          "output_type": "stream",
          "text": [
            "Test loss: 1.66637 | Test accuracy: 0.55\n",
            "\n",
            "Epoch:3\n",
            "---------\n"
          ]
        },
        {
          "metadata": {
            "tags": null
          },
          "name": "stderr",
          "output_type": "stream",
          "text": [
            "\n",
            "0it [00:00, ?it/s]\u001b[A\n",
            "1it [01:18, 78.08s/it]\u001b[A\n",
            "2it [02:36, 78.31s/it]\u001b[A\n",
            "3it [03:54, 78.15s/it]\u001b[A\n",
            "4it [05:12, 78.04s/it]\u001b[A\n",
            "5it [06:31, 78.21s/it]\n"
          ]
        },
        {
          "metadata": {
            "tags": null
          },
          "name": "stdout",
          "output_type": "stream",
          "text": [
            "Train Loss: 0.44726 | Train Accuracy: 0.84\n",
            "Validation Loss: 0.33140 | Validation Accuracy: 0.89\n"
          ]
        },
        {
          "metadata": {
            "tags": null
          },
          "name": "stderr",
          "output_type": "stream",
          "text": [
            "\r  8%|▊         | 4/50 [26:05<5:00:09, 391.50s/it]"
          ]
        },
        {
          "metadata": {
            "tags": null
          },
          "name": "stdout",
          "output_type": "stream",
          "text": [
            "Test loss: 1.74789 | Test accuracy: 0.56\n",
            "\n",
            "Epoch:4\n",
            "---------\n"
          ]
        },
        {
          "metadata": {
            "tags": null
          },
          "name": "stderr",
          "output_type": "stream",
          "text": [
            "\n",
            "0it [00:00, ?it/s]\u001b[A\n",
            "1it [01:17, 77.94s/it]\u001b[A\n",
            "2it [02:36, 78.18s/it]\u001b[A\n",
            "3it [03:54, 78.01s/it]\u001b[A\n",
            "4it [05:12, 78.02s/it]\u001b[A\n",
            "5it [06:30, 78.07s/it]\n"
          ]
        },
        {
          "metadata": {
            "tags": null
          },
          "name": "stdout",
          "output_type": "stream",
          "text": [
            "Train Loss: 0.40834 | Train Accuracy: 0.85\n",
            "Validation Loss: 0.27707 | Validation Accuracy: 0.91\n"
          ]
        },
        {
          "metadata": {
            "tags": null
          },
          "name": "stderr",
          "output_type": "stream",
          "text": [
            "\r 10%|█         | 5/50 [32:36<4:53:34, 391.43s/it]"
          ]
        },
        {
          "metadata": {
            "tags": null
          },
          "name": "stdout",
          "output_type": "stream",
          "text": [
            "Test loss: 1.79881 | Test accuracy: 0.56\n",
            "\n",
            "Epoch:5\n",
            "---------\n"
          ]
        },
        {
          "metadata": {
            "tags": null
          },
          "name": "stderr",
          "output_type": "stream",
          "text": [
            "\n",
            "0it [00:00, ?it/s]\u001b[A\n",
            "1it [01:17, 77.75s/it]\u001b[A\n",
            "2it [02:35, 77.94s/it]\u001b[A\n",
            "3it [03:54, 78.16s/it]\u001b[A\n",
            "4it [05:12, 78.07s/it]\u001b[A\n",
            "5it [06:30, 78.07s/it]\n"
          ]
        },
        {
          "metadata": {
            "tags": null
          },
          "name": "stdout",
          "output_type": "stream",
          "text": [
            "Train Loss: 0.38558 | Train Accuracy: 0.86\n",
            "Validation Loss: 0.24013 | Validation Accuracy: 0.92\n"
          ]
        },
        {
          "metadata": {
            "tags": null
          },
          "name": "stderr",
          "output_type": "stream",
          "text": [
            "\r 12%|█▏        | 6/50 [39:08<4:47:06, 391.51s/it]"
          ]
        },
        {
          "metadata": {
            "tags": null
          },
          "name": "stdout",
          "output_type": "stream",
          "text": [
            "Test loss: 1.87860 | Test accuracy: 0.56\n",
            "\n",
            "Epoch:6\n",
            "---------\n"
          ]
        },
        {
          "metadata": {
            "tags": null
          },
          "name": "stderr",
          "output_type": "stream",
          "text": [
            "\n",
            "0it [00:00, ?it/s]\u001b[A\n",
            "1it [01:18, 78.45s/it]\u001b[A\n",
            "2it [02:36, 78.04s/it]\u001b[A\n",
            "3it [03:54, 78.21s/it]\u001b[A\n",
            "4it [05:12, 78.13s/it]\u001b[A\n",
            "5it [06:30, 78.20s/it]\n"
          ]
        },
        {
          "metadata": {
            "tags": null
          },
          "name": "stdout",
          "output_type": "stream",
          "text": [
            "Train Loss: 0.36504 | Train Accuracy: 0.87\n",
            "Validation Loss: 0.20832 | Validation Accuracy: 0.93\n"
          ]
        },
        {
          "metadata": {
            "tags": null
          },
          "name": "stderr",
          "output_type": "stream",
          "text": [
            "\r 14%|█▍        | 7/50 [45:40<4:40:47, 391.79s/it]"
          ]
        },
        {
          "metadata": {
            "tags": null
          },
          "name": "stdout",
          "output_type": "stream",
          "text": [
            "Test loss: 1.99677 | Test accuracy: 0.56\n",
            "\n",
            "Epoch:7\n",
            "---------\n"
          ]
        },
        {
          "metadata": {
            "tags": null
          },
          "name": "stderr",
          "output_type": "stream",
          "text": [
            "\n",
            "0it [00:00, ?it/s]\u001b[A\n",
            "1it [01:18, 78.02s/it]\u001b[A\n",
            "2it [02:35, 77.89s/it]\u001b[A\n",
            "3it [03:54, 78.30s/it]\u001b[A\n",
            "4it [05:12, 78.17s/it]\u001b[A\n",
            "5it [06:30, 78.18s/it]\n"
          ]
        },
        {
          "metadata": {
            "tags": null
          },
          "name": "stdout",
          "output_type": "stream",
          "text": [
            "Train Loss: 0.34699 | Train Accuracy: 0.88\n",
            "Validation Loss: 0.18770 | Validation Accuracy: 0.94\n"
          ]
        },
        {
          "metadata": {
            "tags": null
          },
          "name": "stderr",
          "output_type": "stream",
          "text": [
            "\r 16%|█▌        | 8/50 [52:12<4:34:21, 391.93s/it]"
          ]
        },
        {
          "metadata": {
            "tags": null
          },
          "name": "stdout",
          "output_type": "stream",
          "text": [
            "Test loss: 2.03952 | Test accuracy: 0.56\n",
            "\n",
            "Epoch:8\n",
            "---------\n"
          ]
        },
        {
          "metadata": {
            "tags": null
          },
          "name": "stderr",
          "output_type": "stream",
          "text": [
            "\n",
            "0it [00:00, ?it/s]\u001b[A\n",
            "1it [01:17, 77.98s/it]\u001b[A\n",
            "2it [02:36, 78.08s/it]\u001b[A\n",
            "3it [03:54, 78.20s/it]\u001b[A\n",
            "4it [05:12, 78.10s/it]\u001b[A\n",
            "5it [06:30, 78.07s/it]\n"
          ]
        },
        {
          "metadata": {
            "tags": null
          },
          "name": "stdout",
          "output_type": "stream",
          "text": [
            "Train Loss: 0.33934 | Train Accuracy: 0.88\n",
            "Validation Loss: 0.18223 | Validation Accuracy: 0.94\n"
          ]
        },
        {
          "metadata": {
            "tags": null
          },
          "name": "stderr",
          "output_type": "stream",
          "text": [
            "\r 18%|█▊        | 9/50 [58:44<4:27:42, 391.77s/it]"
          ]
        },
        {
          "metadata": {
            "tags": null
          },
          "name": "stdout",
          "output_type": "stream",
          "text": [
            "Test loss: 2.05702 | Test accuracy: 0.55\n",
            "\n",
            "Epoch:9\n",
            "---------\n"
          ]
        },
        {
          "metadata": {
            "tags": null
          },
          "name": "stderr",
          "output_type": "stream",
          "text": [
            "\n",
            "0it [00:00, ?it/s]\u001b[A\n",
            "1it [01:18, 78.73s/it]\u001b[A\n",
            "2it [02:36, 78.31s/it]\u001b[A\n",
            "3it [03:55, 78.31s/it]\u001b[A\n",
            "4it [05:12, 78.15s/it]\u001b[A\n",
            "5it [06:30, 78.19s/it]\n"
          ]
        },
        {
          "metadata": {
            "tags": null
          },
          "name": "stdout",
          "output_type": "stream",
          "text": [
            "Train Loss: 0.32988 | Train Accuracy: 0.88\n",
            "Validation Loss: 0.16348 | Validation Accuracy: 0.95\n"
          ]
        },
        {
          "metadata": {
            "tags": null
          },
          "name": "stderr",
          "output_type": "stream",
          "text": [
            "\r 20%|██        | 10/50 [1:05:16<4:21:12, 391.82s/it]"
          ]
        },
        {
          "metadata": {
            "tags": null
          },
          "name": "stdout",
          "output_type": "stream",
          "text": [
            "Test loss: 2.14684 | Test accuracy: 0.56\n",
            "\n",
            "Epoch:10\n",
            "---------\n"
          ]
        },
        {
          "metadata": {
            "tags": null
          },
          "name": "stderr",
          "output_type": "stream",
          "text": [
            "\n",
            "0it [00:00, ?it/s]\u001b[A\n",
            "1it [01:18, 78.44s/it]\u001b[A\n",
            "2it [02:36, 78.13s/it]\u001b[A\n",
            "3it [03:54, 78.12s/it]\u001b[A\n",
            "4it [05:12, 78.18s/it]\u001b[A\n",
            "5it [06:30, 78.10s/it]\n"
          ]
        },
        {
          "metadata": {
            "tags": null
          },
          "name": "stdout",
          "output_type": "stream",
          "text": [
            "Train Loss: 0.32136 | Train Accuracy: 0.89\n",
            "Validation Loss: 0.15388 | Validation Accuracy: 0.95\n"
          ]
        },
        {
          "metadata": {
            "tags": null
          },
          "name": "stderr",
          "output_type": "stream",
          "text": [
            "\r 22%|██▏       | 11/50 [1:11:47<4:14:36, 391.71s/it]"
          ]
        },
        {
          "metadata": {
            "tags": null
          },
          "name": "stdout",
          "output_type": "stream",
          "text": [
            "Test loss: 2.13951 | Test accuracy: 0.55\n",
            "\n",
            "Epoch:11\n",
            "---------\n"
          ]
        },
        {
          "metadata": {
            "tags": null
          },
          "name": "stderr",
          "output_type": "stream",
          "text": [
            "\n",
            "0it [00:00, ?it/s]\u001b[A\n",
            "1it [01:18, 78.51s/it]\u001b[A\n",
            "2it [02:36, 78.26s/it]\u001b[A\n",
            "3it [03:54, 78.03s/it]\u001b[A\n",
            "4it [05:12, 78.11s/it]\u001b[A\n",
            "5it [06:30, 78.10s/it]\n"
          ]
        },
        {
          "metadata": {
            "tags": null
          },
          "name": "stdout",
          "output_type": "stream",
          "text": [
            "Train Loss: 0.31366 | Train Accuracy: 0.89\n",
            "Validation Loss: 0.14032 | Validation Accuracy: 0.96\n"
          ]
        },
        {
          "metadata": {
            "tags": null
          },
          "name": "stderr",
          "output_type": "stream",
          "text": [
            "\r 24%|██▍       | 12/50 [1:18:18<4:08:02, 391.64s/it]"
          ]
        },
        {
          "metadata": {
            "tags": null
          },
          "name": "stdout",
          "output_type": "stream",
          "text": [
            "Test loss: 2.07559 | Test accuracy: 0.55\n",
            "\n",
            "Epoch:12\n",
            "---------\n"
          ]
        },
        {
          "metadata": {
            "tags": null
          },
          "name": "stderr",
          "output_type": "stream",
          "text": [
            "\n",
            "0it [00:00, ?it/s]\u001b[A\n",
            "1it [01:18, 78.24s/it]\u001b[A\n",
            "2it [02:36, 78.32s/it]\u001b[A\n",
            "3it [03:54, 78.16s/it]\u001b[A\n",
            "4it [05:12, 78.18s/it]\u001b[A\n",
            "5it [06:30, 78.09s/it]\n"
          ]
        },
        {
          "metadata": {
            "tags": null
          },
          "name": "stdout",
          "output_type": "stream",
          "text": [
            "Train Loss: 0.30872 | Train Accuracy: 0.89\n",
            "Validation Loss: 0.13209 | Validation Accuracy: 0.96\n"
          ]
        },
        {
          "metadata": {
            "tags": null
          },
          "name": "stderr",
          "output_type": "stream",
          "text": [
            "\r 26%|██▌       | 13/50 [1:24:50<4:01:28, 391.57s/it]"
          ]
        },
        {
          "metadata": {
            "tags": null
          },
          "name": "stdout",
          "output_type": "stream",
          "text": [
            "Test loss: 2.34810 | Test accuracy: 0.56\n",
            "\n",
            "Epoch:13\n",
            "---------\n"
          ]
        },
        {
          "metadata": {
            "tags": null
          },
          "name": "stderr",
          "output_type": "stream",
          "text": [
            "\n",
            "0it [00:00, ?it/s]\u001b[A\n",
            "1it [01:17, 77.66s/it]\u001b[A\n",
            "2it [02:35, 77.89s/it]\u001b[A\n",
            "3it [03:53, 77.95s/it]\u001b[A\n",
            "4it [05:11, 77.76s/it]\u001b[A\n",
            "5it [06:29, 77.81s/it]\n"
          ]
        },
        {
          "metadata": {
            "tags": null
          },
          "name": "stdout",
          "output_type": "stream",
          "text": [
            "Train Loss: 0.30511 | Train Accuracy: 0.89\n",
            "Validation Loss: 0.13326 | Validation Accuracy: 0.96\n"
          ]
        },
        {
          "metadata": {
            "tags": null
          },
          "name": "stderr",
          "output_type": "stream",
          "text": [
            "\r 28%|██▊       | 14/50 [1:31:20<3:54:39, 391.09s/it]"
          ]
        },
        {
          "metadata": {
            "tags": null
          },
          "name": "stdout",
          "output_type": "stream",
          "text": [
            "Test loss: 2.36821 | Test accuracy: 0.55\n",
            "\n",
            "Epoch:14\n",
            "---------\n"
          ]
        },
        {
          "metadata": {
            "tags": null
          },
          "name": "stderr",
          "output_type": "stream",
          "text": [
            "\n",
            "0it [00:00, ?it/s]\u001b[A\n",
            "1it [01:17, 77.31s/it]\u001b[A\n",
            "2it [02:35, 77.68s/it]\u001b[A\n",
            "3it [03:52, 77.70s/it]\u001b[A\n",
            "4it [05:10, 77.68s/it]\u001b[A\n",
            "5it [06:28, 77.72s/it]\n"
          ]
        },
        {
          "metadata": {
            "tags": null
          },
          "name": "stdout",
          "output_type": "stream",
          "text": [
            "Train Loss: 0.29756 | Train Accuracy: 0.90\n",
            "Validation Loss: 0.12690 | Validation Accuracy: 0.96\n"
          ]
        },
        {
          "metadata": {
            "tags": null
          },
          "name": "stderr",
          "output_type": "stream",
          "text": [
            "\r 30%|███       | 15/50 [1:37:50<3:47:56, 390.75s/it]"
          ]
        },
        {
          "metadata": {
            "tags": null
          },
          "name": "stdout",
          "output_type": "stream",
          "text": [
            "Test loss: 2.26339 | Test accuracy: 0.55\n",
            "\n",
            "Epoch:15\n",
            "---------\n"
          ]
        },
        {
          "metadata": {
            "tags": null
          },
          "name": "stderr",
          "output_type": "stream",
          "text": [
            "\n",
            "0it [00:00, ?it/s]\u001b[A\n",
            "1it [01:17, 77.53s/it]\u001b[A\n",
            "2it [02:35, 77.51s/it]\u001b[A\n",
            "3it [03:53, 77.86s/it]\u001b[A\n",
            "4it [05:11, 77.80s/it]\u001b[A\n",
            "5it [06:28, 77.78s/it]\n"
          ]
        },
        {
          "metadata": {
            "tags": null
          },
          "name": "stdout",
          "output_type": "stream",
          "text": [
            "Train Loss: 0.29075 | Train Accuracy: 0.90\n",
            "Validation Loss: 0.12225 | Validation Accuracy: 0.96\n"
          ]
        },
        {
          "metadata": {
            "tags": null
          },
          "name": "stderr",
          "output_type": "stream",
          "text": [
            "\r 32%|███▏      | 16/50 [1:44:20<3:41:16, 390.49s/it]"
          ]
        },
        {
          "metadata": {
            "tags": null
          },
          "name": "stdout",
          "output_type": "stream",
          "text": [
            "Test loss: 2.40155 | Test accuracy: 0.55\n",
            "\n",
            "Epoch:16\n",
            "---------\n"
          ]
        },
        {
          "metadata": {
            "tags": null
          },
          "name": "stderr",
          "output_type": "stream",
          "text": [
            "\n",
            "0it [00:00, ?it/s]\u001b[A\n",
            "1it [01:17, 77.98s/it]\u001b[A\n",
            "2it [02:35, 77.64s/it]\u001b[A\n",
            "3it [03:52, 77.57s/it]\u001b[A\n",
            "4it [05:11, 77.80s/it]\u001b[A\n",
            "5it [06:28, 77.68s/it]\n"
          ]
        },
        {
          "metadata": {
            "tags": null
          },
          "name": "stdout",
          "output_type": "stream",
          "text": [
            "Train Loss: 0.29434 | Train Accuracy: 0.90\n",
            "Validation Loss: 0.10892 | Validation Accuracy: 0.97\n"
          ]
        },
        {
          "metadata": {
            "tags": null
          },
          "name": "stderr",
          "output_type": "stream",
          "text": [
            "\r 34%|███▍      | 17/50 [1:50:49<3:34:34, 390.15s/it]"
          ]
        },
        {
          "metadata": {
            "tags": null
          },
          "name": "stdout",
          "output_type": "stream",
          "text": [
            "Test loss: 2.52239 | Test accuracy: 0.55\n",
            "\n",
            "Epoch:17\n",
            "---------\n"
          ]
        },
        {
          "metadata": {
            "tags": null
          },
          "name": "stderr",
          "output_type": "stream",
          "text": [
            "\n",
            "0it [00:00, ?it/s]\u001b[A\n",
            "1it [01:18, 78.02s/it]\u001b[A\n",
            "2it [02:35, 77.78s/it]\u001b[A\n",
            "3it [03:53, 77.85s/it]\u001b[A\n",
            "4it [05:11, 77.97s/it]\u001b[A\n",
            "5it [06:29, 77.87s/it]\n"
          ]
        },
        {
          "metadata": {
            "tags": null
          },
          "name": "stdout",
          "output_type": "stream",
          "text": [
            "Train Loss: 0.29375 | Train Accuracy: 0.90\n",
            "Validation Loss: 0.11913 | Validation Accuracy: 0.97\n"
          ]
        },
        {
          "metadata": {
            "tags": null
          },
          "name": "stderr",
          "output_type": "stream",
          "text": [
            "\r 36%|███▌      | 18/50 [1:57:19<3:28:06, 390.20s/it]"
          ]
        },
        {
          "metadata": {
            "tags": null
          },
          "name": "stdout",
          "output_type": "stream",
          "text": [
            "Test loss: 2.50393 | Test accuracy: 0.55\n",
            "\n",
            "Epoch:18\n",
            "---------\n"
          ]
        },
        {
          "metadata": {
            "tags": null
          },
          "name": "stderr",
          "output_type": "stream",
          "text": [
            "\n",
            "0it [00:00, ?it/s]\u001b[A\n",
            "1it [01:17, 77.89s/it]\u001b[A\n",
            "2it [02:36, 78.06s/it]\u001b[A\n",
            "3it [03:53, 77.93s/it]\u001b[A\n",
            "4it [05:11, 77.80s/it]\u001b[A\n",
            "5it [06:29, 77.95s/it]\n"
          ]
        },
        {
          "metadata": {
            "tags": null
          },
          "name": "stdout",
          "output_type": "stream",
          "text": [
            "Train Loss: 0.28410 | Train Accuracy: 0.90\n",
            "Validation Loss: 0.12091 | Validation Accuracy: 0.97\n"
          ]
        },
        {
          "metadata": {
            "tags": null
          },
          "name": "stderr",
          "output_type": "stream",
          "text": [
            "\r 38%|███▊      | 19/50 [2:03:50<3:21:41, 390.36s/it]"
          ]
        },
        {
          "metadata": {
            "tags": null
          },
          "name": "stdout",
          "output_type": "stream",
          "text": [
            "Test loss: 2.59036 | Test accuracy: 0.55\n",
            "\n",
            "Epoch:19\n",
            "---------\n"
          ]
        },
        {
          "metadata": {
            "tags": null
          },
          "name": "stderr",
          "output_type": "stream",
          "text": [
            "\n",
            "0it [00:00, ?it/s]\u001b[A\n",
            "1it [01:17, 77.64s/it]\u001b[A\n",
            "2it [02:35, 78.04s/it]\u001b[A\n",
            "3it [03:53, 77.81s/it]\u001b[A\n",
            "4it [05:11, 77.78s/it]\u001b[A\n",
            "5it [06:29, 77.87s/it]\n"
          ]
        },
        {
          "metadata": {
            "tags": null
          },
          "name": "stdout",
          "output_type": "stream",
          "text": [
            "Train Loss: 0.28585 | Train Accuracy: 0.90\n",
            "Validation Loss: 0.11311 | Validation Accuracy: 0.97\n"
          ]
        },
        {
          "metadata": {
            "tags": null
          },
          "name": "stderr",
          "output_type": "stream",
          "text": [
            "\r 40%|████      | 20/50 [2:10:20<3:15:10, 390.33s/it]"
          ]
        },
        {
          "metadata": {
            "tags": null
          },
          "name": "stdout",
          "output_type": "stream",
          "text": [
            "Test loss: 2.60896 | Test accuracy: 0.55\n",
            "\n",
            "Epoch:20\n",
            "---------\n"
          ]
        },
        {
          "metadata": {
            "tags": null
          },
          "name": "stderr",
          "output_type": "stream",
          "text": [
            "\n",
            "0it [00:00, ?it/s]\u001b[A\n",
            "1it [01:17, 77.62s/it]\u001b[A\n",
            "2it [02:35, 77.65s/it]\u001b[A\n",
            "3it [03:53, 77.77s/it]\u001b[A\n",
            "4it [05:10, 77.68s/it]\u001b[A\n",
            "5it [06:28, 77.63s/it]\n"
          ]
        },
        {
          "metadata": {
            "tags": null
          },
          "name": "stdout",
          "output_type": "stream",
          "text": [
            "Train Loss: 0.29205 | Train Accuracy: 0.90\n",
            "Validation Loss: 0.10513 | Validation Accuracy: 0.97\n"
          ]
        },
        {
          "metadata": {
            "tags": null
          },
          "name": "stderr",
          "output_type": "stream",
          "text": [
            "\r 42%|████▏     | 21/50 [2:16:50<3:08:32, 390.08s/it]"
          ]
        },
        {
          "metadata": {
            "tags": null
          },
          "name": "stdout",
          "output_type": "stream",
          "text": [
            "Test loss: 2.54074 | Test accuracy: 0.55\n",
            "\n",
            "Epoch:21\n",
            "---------\n"
          ]
        },
        {
          "metadata": {
            "tags": null
          },
          "name": "stderr",
          "output_type": "stream",
          "text": [
            "\n",
            "0it [00:00, ?it/s]\u001b[A\n",
            "1it [01:17, 77.81s/it]\u001b[A\n",
            "2it [02:35, 77.52s/it]\u001b[A\n",
            "3it [03:52, 77.61s/it]\u001b[A\n",
            "4it [05:10, 77.57s/it]\u001b[A\n",
            "5it [06:27, 77.59s/it]\n"
          ]
        },
        {
          "metadata": {
            "tags": null
          },
          "name": "stdout",
          "output_type": "stream",
          "text": [
            "Train Loss: 0.28247 | Train Accuracy: 0.90\n",
            "Validation Loss: 0.10643 | Validation Accuracy: 0.97\n"
          ]
        },
        {
          "metadata": {
            "tags": null
          },
          "name": "stderr",
          "output_type": "stream",
          "text": [
            "\r 44%|████▍     | 22/50 [2:23:19<3:01:52, 389.73s/it]"
          ]
        },
        {
          "metadata": {
            "tags": null
          },
          "name": "stdout",
          "output_type": "stream",
          "text": [
            "Test loss: 2.45992 | Test accuracy: 0.54\n",
            "\n",
            "Epoch:22\n",
            "---------\n"
          ]
        },
        {
          "metadata": {
            "tags": null
          },
          "name": "stderr",
          "output_type": "stream",
          "text": [
            "\n",
            "0it [00:00, ?it/s]\u001b[A\n",
            "1it [01:17, 77.64s/it]\u001b[A\n",
            "2it [02:34, 77.43s/it]\u001b[A\n",
            "3it [03:52, 77.51s/it]\u001b[A\n",
            "4it [05:10, 77.73s/it]\u001b[A\n",
            "5it [06:27, 77.59s/it]\n"
          ]
        },
        {
          "metadata": {
            "tags": null
          },
          "name": "stdout",
          "output_type": "stream",
          "text": [
            "Train Loss: 0.28002 | Train Accuracy: 0.90\n",
            "Validation Loss: 0.10203 | Validation Accuracy: 0.97\n"
          ]
        },
        {
          "metadata": {
            "tags": null
          },
          "name": "stderr",
          "output_type": "stream",
          "text": [
            "\r 46%|████▌     | 23/50 [2:29:48<2:55:16, 389.49s/it]"
          ]
        },
        {
          "metadata": {
            "tags": null
          },
          "name": "stdout",
          "output_type": "stream",
          "text": [
            "Test loss: 2.79813 | Test accuracy: 0.55\n",
            "\n",
            "Epoch:23\n",
            "---------\n"
          ]
        },
        {
          "metadata": {
            "tags": null
          },
          "name": "stderr",
          "output_type": "stream",
          "text": [
            "\n",
            "0it [00:00, ?it/s]\u001b[A\n",
            "1it [01:17, 77.77s/it]\u001b[A\n",
            "2it [02:35, 77.89s/it]\u001b[A\n",
            "3it [03:53, 77.70s/it]\u001b[A\n",
            "4it [05:10, 77.63s/it]\u001b[A\n",
            "5it [06:28, 77.68s/it]\n"
          ]
        },
        {
          "metadata": {
            "tags": null
          },
          "name": "stdout",
          "output_type": "stream",
          "text": [
            "Train Loss: 0.27803 | Train Accuracy: 0.90\n",
            "Validation Loss: 0.09986 | Validation Accuracy: 0.97\n"
          ]
        },
        {
          "metadata": {
            "tags": null
          },
          "name": "stderr",
          "output_type": "stream",
          "text": [
            "\r 48%|████▊     | 24/50 [2:36:17<2:48:45, 389.45s/it]"
          ]
        },
        {
          "metadata": {
            "tags": null
          },
          "name": "stdout",
          "output_type": "stream",
          "text": [
            "Test loss: 2.59873 | Test accuracy: 0.55\n",
            "\n",
            "Epoch:24\n",
            "---------\n"
          ]
        },
        {
          "metadata": {
            "tags": null
          },
          "name": "stderr",
          "output_type": "stream",
          "text": [
            "\n",
            "0it [00:00, ?it/s]\u001b[A\n",
            "1it [01:17, 77.30s/it]\u001b[A\n",
            "2it [02:35, 77.72s/it]\u001b[A\n",
            "3it [03:52, 77.51s/it]\u001b[A\n",
            "4it [05:10, 77.49s/it]\u001b[A\n",
            "5it [06:27, 77.55s/it]\n"
          ]
        },
        {
          "metadata": {
            "tags": null
          },
          "name": "stdout",
          "output_type": "stream",
          "text": [
            "Train Loss: 0.27745 | Train Accuracy: 0.91\n",
            "Validation Loss: 0.09367 | Validation Accuracy: 0.98\n"
          ]
        },
        {
          "metadata": {
            "tags": null
          },
          "name": "stderr",
          "output_type": "stream",
          "text": [
            "\r 50%|█████     | 25/50 [2:42:46<2:42:11, 389.25s/it]"
          ]
        },
        {
          "metadata": {
            "tags": null
          },
          "name": "stdout",
          "output_type": "stream",
          "text": [
            "Test loss: 2.84451 | Test accuracy: 0.55\n",
            "\n",
            "Epoch:25\n",
            "---------\n"
          ]
        },
        {
          "metadata": {
            "tags": null
          },
          "name": "stderr",
          "output_type": "stream",
          "text": [
            "\n",
            "0it [00:00, ?it/s]\u001b[A\n",
            "1it [01:17, 77.58s/it]\u001b[A\n",
            "2it [02:35, 77.49s/it]\u001b[A\n",
            "3it [03:52, 77.60s/it]\u001b[A\n",
            "4it [05:09, 77.44s/it]\u001b[A\n",
            "5it [06:27, 77.48s/it]\n"
          ]
        },
        {
          "metadata": {
            "tags": null
          },
          "name": "stdout",
          "output_type": "stream",
          "text": [
            "Train Loss: 0.28145 | Train Accuracy: 0.91\n",
            "Validation Loss: 0.08805 | Validation Accuracy: 0.98\n"
          ]
        },
        {
          "metadata": {
            "tags": null
          },
          "name": "stderr",
          "output_type": "stream",
          "text": [
            "\r 52%|█████▏    | 26/50 [2:49:14<2:35:36, 389.01s/it]"
          ]
        },
        {
          "metadata": {
            "tags": null
          },
          "name": "stdout",
          "output_type": "stream",
          "text": [
            "Test loss: 2.84081 | Test accuracy: 0.55\n",
            "\n",
            "Epoch:26\n",
            "---------\n"
          ]
        },
        {
          "metadata": {
            "tags": null
          },
          "name": "stderr",
          "output_type": "stream",
          "text": [
            "\n",
            "0it [00:00, ?it/s]\u001b[A\n",
            "1it [01:17, 77.71s/it]\u001b[A\n",
            "2it [02:35, 77.54s/it]\u001b[A\n",
            "3it [03:52, 77.43s/it]\u001b[A\n",
            "4it [05:10, 77.76s/it]\u001b[A\n",
            "5it [06:27, 77.60s/it]\n"
          ]
        },
        {
          "metadata": {
            "tags": null
          },
          "name": "stdout",
          "output_type": "stream",
          "text": [
            "Train Loss: 0.28154 | Train Accuracy: 0.91\n",
            "Validation Loss: 0.09974 | Validation Accuracy: 0.98\n"
          ]
        },
        {
          "metadata": {
            "tags": null
          },
          "name": "stderr",
          "output_type": "stream",
          "text": [
            "\r 54%|█████▍    | 27/50 [2:55:43<2:29:06, 388.99s/it]"
          ]
        },
        {
          "metadata": {
            "tags": null
          },
          "name": "stdout",
          "output_type": "stream",
          "text": [
            "Test loss: 2.71931 | Test accuracy: 0.55\n",
            "\n",
            "Epoch:27\n",
            "---------\n"
          ]
        },
        {
          "metadata": {
            "tags": null
          },
          "name": "stderr",
          "output_type": "stream",
          "text": [
            "\n",
            "0it [00:00, ?it/s]\u001b[A\n",
            "1it [01:18, 78.06s/it]\u001b[A\n",
            "2it [02:35, 77.66s/it]\u001b[A\n",
            "3it [03:52, 77.61s/it]\u001b[A\n",
            "4it [05:10, 77.75s/it]\u001b[A\n",
            "5it [06:28, 77.68s/it]\n"
          ]
        },
        {
          "metadata": {
            "tags": null
          },
          "name": "stdout",
          "output_type": "stream",
          "text": [
            "Train Loss: 0.28915 | Train Accuracy: 0.90\n",
            "Validation Loss: 0.11608 | Validation Accuracy: 0.97\n"
          ]
        },
        {
          "metadata": {
            "tags": null
          },
          "name": "stderr",
          "output_type": "stream",
          "text": [
            "\r 56%|█████▌    | 28/50 [3:02:13<2:22:40, 389.11s/it]"
          ]
        },
        {
          "metadata": {
            "tags": null
          },
          "name": "stdout",
          "output_type": "stream",
          "text": [
            "Test loss: 3.01002 | Test accuracy: 0.54\n",
            "\n",
            "Epoch:28\n",
            "---------\n"
          ]
        },
        {
          "output_type": "stream",
          "name": "stderr",
          "text": [
            "\n",
            "0it [00:00, ?it/s]\u001b[A\n",
            "1it [01:17, 77.55s/it]\u001b[A\n",
            "2it [02:35, 77.87s/it]\u001b[A\n",
            "3it [03:53, 77.72s/it]\u001b[A\n",
            "4it [05:10, 77.50s/it]\u001b[A\n",
            "5it [06:26, 77.31s/it]\n"
          ]
        },
        {
          "output_type": "stream",
          "name": "stdout",
          "text": [
            "Train Loss: 0.27903 | Train Accuracy: 0.91\n",
            "Validation Loss: 0.08888 | Validation Accuracy: 0.98\n"
          ]
        },
        {
          "output_type": "stream",
          "name": "stderr",
          "text": [
            "\r 58%|█████▊    | 29/50 [3:08:40<2:16:01, 388.64s/it]"
          ]
        },
        {
          "output_type": "stream",
          "name": "stdout",
          "text": [
            "Test loss: 2.73990 | Test accuracy: 0.55\n",
            "\n",
            "Epoch:29\n",
            "---------\n"
          ]
        },
        {
          "output_type": "stream",
          "name": "stderr",
          "text": [
            "\n",
            "0it [00:00, ?it/s]\u001b[A\n",
            "1it [01:16, 76.87s/it]\u001b[A\n",
            "2it [02:33, 76.80s/it]\u001b[A\n",
            "3it [03:50, 76.86s/it]\u001b[A\n",
            "4it [05:07, 76.93s/it]\u001b[A\n",
            "5it [06:24, 76.95s/it]\n"
          ]
        },
        {
          "output_type": "stream",
          "name": "stdout",
          "text": [
            "Train Loss: 0.28048 | Train Accuracy: 0.91\n",
            "Validation Loss: 0.08949 | Validation Accuracy: 0.98\n"
          ]
        },
        {
          "output_type": "stream",
          "name": "stderr",
          "text": [
            "\r 60%|██████    | 30/50 [3:15:06<2:09:15, 387.76s/it]"
          ]
        },
        {
          "output_type": "stream",
          "name": "stdout",
          "text": [
            "Test loss: 3.01937 | Test accuracy: 0.55\n",
            "\n",
            "Epoch:30\n",
            "---------\n"
          ]
        },
        {
          "output_type": "stream",
          "name": "stderr",
          "text": [
            "\n",
            "0it [00:00, ?it/s]\u001b[A\n",
            "1it [01:17, 77.04s/it]\u001b[A\n",
            "2it [02:33, 76.93s/it]\u001b[A\n",
            "3it [03:51, 77.15s/it]\u001b[A\n",
            "4it [05:08, 77.30s/it]\u001b[A\n",
            "5it [06:25, 77.15s/it]\n"
          ]
        },
        {
          "output_type": "stream",
          "name": "stdout",
          "text": [
            "Train Loss: 0.28874 | Train Accuracy: 0.90\n",
            "Validation Loss: 0.07802 | Validation Accuracy: 0.98\n"
          ]
        },
        {
          "output_type": "stream",
          "name": "stderr",
          "text": [
            "\r 62%|██████▏   | 31/50 [3:21:33<2:02:43, 387.55s/it]"
          ]
        },
        {
          "output_type": "stream",
          "name": "stdout",
          "text": [
            "Test loss: 3.24891 | Test accuracy: 0.54\n",
            "\n",
            "Epoch:31\n",
            "---------\n"
          ]
        },
        {
          "output_type": "stream",
          "name": "stderr",
          "text": [
            "\n",
            "0it [00:00, ?it/s]\u001b[A\n",
            "1it [01:17, 77.11s/it]\u001b[A\n",
            "2it [02:34, 77.09s/it]\u001b[A\n",
            "3it [03:51, 77.08s/it]\u001b[A\n",
            "4it [05:07, 76.88s/it]\u001b[A\n",
            "5it [06:24, 76.97s/it]\n"
          ]
        },
        {
          "output_type": "stream",
          "name": "stdout",
          "text": [
            "Train Loss: 0.27394 | Train Accuracy: 0.91\n",
            "Validation Loss: 0.09137 | Validation Accuracy: 0.98\n"
          ]
        },
        {
          "output_type": "stream",
          "name": "stderr",
          "text": [
            "\r 64%|██████▍   | 32/50 [3:27:59<1:56:06, 387.03s/it]"
          ]
        },
        {
          "output_type": "stream",
          "name": "stdout",
          "text": [
            "Test loss: 2.88771 | Test accuracy: 0.55\n",
            "\n",
            "Epoch:32\n",
            "---------\n"
          ]
        },
        {
          "output_type": "stream",
          "name": "stderr",
          "text": [
            "\n",
            "0it [00:00, ?it/s]\u001b[A\n",
            "1it [01:16, 76.84s/it]\u001b[A\n",
            "2it [02:33, 76.81s/it]\u001b[A\n",
            "3it [03:50, 76.86s/it]\u001b[A\n",
            "4it [05:07, 76.93s/it]\u001b[A\n",
            "5it [06:25, 77.04s/it]\n"
          ]
        },
        {
          "output_type": "stream",
          "name": "stdout",
          "text": [
            "Train Loss: 0.28014 | Train Accuracy: 0.91\n",
            "Validation Loss: 0.08462 | Validation Accuracy: 0.98\n"
          ]
        },
        {
          "output_type": "stream",
          "name": "stderr",
          "text": [
            "\r 66%|██████▌   | 33/50 [3:34:25<1:49:35, 386.79s/it]"
          ]
        },
        {
          "output_type": "stream",
          "name": "stdout",
          "text": [
            "Test loss: 2.88645 | Test accuracy: 0.55\n",
            "\n",
            "Epoch:33\n",
            "---------\n"
          ]
        },
        {
          "output_type": "stream",
          "name": "stderr",
          "text": [
            "\n",
            "0it [00:00, ?it/s]\u001b[A\n",
            "1it [01:20, 80.45s/it]\u001b[A\n",
            "2it [02:41, 80.57s/it]\u001b[A\n",
            "3it [04:00, 80.18s/it]\u001b[A"
          ]
        }
      ],
      "source": [
        "from sklearn.model_selection import KFold\n",
        "import numpy as np\n",
        "# Mesure du temps\n",
        "from timeit import default_timer as timer\n",
        "train_time_start_model_1 = timer()\n",
        "\n",
        "# Nombre d'époques\n",
        "epochs = 50\n",
        "for epoch in tqdm(range(epochs)):\n",
        "  print(f\"Epoch:{epoch}\\n---------\")\n",
        "  train_step_with_cv(model=model_1,\n",
        "                   data_loader=train_dataloader,  # Utilisez les données du pli actuel\n",
        "                   loss_fn=loss_fn1,\n",
        "                   optimizer=optimizer1,\n",
        "                   accuracy_fn=accuracy_fn1,\n",
        "                   device=device)\n",
        "  test_step(model=model_1,\n",
        "                  data_loader=test_dataloader,  # Utilisez les données de test du pli actuel\n",
        "                  loss_fn=loss_fn1,\n",
        "                  accuracy_fn=accuracy_fn1,\n",
        "                  device=device)\n",
        "        # Imprimez combien d'échantillons ont été vus\n",
        "  if BATCH_SIZE % 400 == 0:\n",
        "    print(f\"Looked at {BATCH_SIZE * len(epoch)}/{len(train_dataloader.dataset)}\")\n",
        "\n",
        "train_time_end_model_1 = timer()\n",
        "total_train_time_model_1 = print_train_time(start=train_time_start_model_1,\n",
        "                                            end=train_time_end_model_1,\n",
        "                                            device=device)\n"
      ]
    }
  ],
  "metadata": {
    "accelerator": "GPU",
    "colab": {
      "provenance": [],
      "gpuType": "T4"
    },
    "kernelspec": {
      "display_name": "Python 3",
      "name": "python3"
    },
    "language_info": {
      "name": "python"
    }
  },
  "nbformat": 4,
  "nbformat_minor": 0
}